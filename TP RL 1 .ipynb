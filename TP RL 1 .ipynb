{
 "cells": [
  {
   "cell_type": "markdown",
   "metadata": {},
   "source": [
    "## TP1 Reinforcement Learning"
   ]
  },
  {
   "cell_type": "markdown",
   "metadata": {},
   "source": [
    "## 1 Dynamic Programming\n",
    "\n",
    "The following simple example illustrates the basic components of a Markov Decision Process (MDP) with stationary reward and transition model. Fig. 1 illustrates a simple three-state MDP. The elements in braces denote the rewards, while the weights on the arcs are the transition probabilities. For example, action a0 in s0 is such that\n",
    "$$p(s0|s0, a0) = 0.4, p(s1|s0, a0) = 0.6$$\n",
    "And $$r(s0, a0) = 0$$\n",
    "\n",
    "Assume a discount factor $γ = 0.95$\n",
    "\n",
    "**• Q1: Implement the discrete MDP model. In this simple MDP it is simple to guess the optimal policy π∗. What is it?**\n",
    "\n",
    "The optimal policy maximizes a fraction $\\gamma^t$ of the reward in expectation. Therefore, we want to reach $s_2$ and remaining there doing in loop the action $a_2$. The shortest stochastic path to $s_2$ is to do $a_1$ in $s_0$ and $s_1$. This means that the optimal policy is π0 = [a1, a1, a2]."
   ]
  },
  {
   "cell_type": "code",
   "execution_count": 51,
   "metadata": {},
   "outputs": [],
   "source": [
    "import numpy as np \n",
    "\n",
    "transitions = np.array([[[0.55, 0.3, 1],\n",
    "                         [0.45, 0.7, 0],\n",
    "                         [0, 0, 0]],\n",
    "                        [[1, 0, 0],\n",
    "                         [0, 0.4, 1],\n",
    "                         [0, 0.6, 0]],\n",
    "                        [[0, 0, 0],\n",
    "                         [1, 0.6, 0],\n",
    "                         [0, 0.4, 1]]\n",
    "                       ], dtype=float)\n",
    "#transitions(s1, s2, a0) = p(s1 | s2, a0)\n",
    "gamma = 0.95 \n",
    "\n",
    "rewards = np.array([[0, 0, 0.05],\n",
    "                    [0, 0, 0],\n",
    "                    [0, 1, 0.9]], dtype=float)"
   ]
  },
  {
   "cell_type": "markdown",
   "metadata": {},
   "source": [
    "\n",
    "**Q2: Implement and run value iteration (VI) in order to identify a 0.01–optimal policy. Recall that the stopping criterion (theory slides) is to stop when\n",
    "$$∥v^{k+1} − v^k∥_∞ < ε$$\n",
    "which implies that [Puterman, 1994, Th. 6.3.1]\n",
    "$$∥v^{π^+_{k+1}} −v_∗∥< \\frac{2εγ}{1−γ}$$\n",
    "Plot $∥v_k −v_∗∥_∞$ as a function of iteration k. Implement policy evaluation to compute $v_∗$, i.e. the value\n",
    "function of the optimal policy.**\n"
   ]
  },
  {
   "cell_type": "code",
   "execution_count": 53,
   "metadata": {},
   "outputs": [
    {
     "data": {
      "image/png": "[encoded data removed]",
      "text/plain": [
       "<Figure size 432x288 with 1 Axes>"
      ]
     },
     "metadata": {},
     "output_type": "display_data"
    }
   ],
   "source": [
    "import matplotlib.pyplot as plt\n",
    "\n",
    "n_states, n_actions = rewards.shape\n",
    "old_value = np.zeros(n_states)\n",
    "value = np.zeros(n_states)\n",
    "values = []\n",
    "eps = 1e-2\n",
    "error = eps + 1\n",
    "max_iter = 1000\n",
    "n = 0\n",
    "\n",
    "while error >= eps and n < max_iter:\n",
    "\n",
    "    for s in range(n_states):\n",
    "        all_values = np.zeros(n_actions)\n",
    "        for a in range(n_actions):\n",
    "#             print(f\"n={n}, s={s}, a={a}, pv={rewards[s].dot(transitions[:,s, a]):.2f}, r={rewards[s]}, t={transitions[:,s, a]}\")\n",
    "            all_values[a] = rewards[s, a] + gamma * transitions[s, :, a].dot(value)\n",
    "        value[s] = np.max(all_values)\n",
    "    error = np.max(value - old_value)\n",
    "    values.append(value.copy())\n",
    "    old_value = value.copy()\n",
    "    n += 1\n",
    "\n",
    "\n",
    "v_opt = value\n",
    "errors = np.array(values) - np.tile(v_opt, (n, 1))\n",
    "plt.plot(errors)\n",
    "plt.ylabel(\"$∥v^k −v_∗∥$\")\n",
    "plt.xlabel(\"Step\")\n",
    "plt.show()"
   ]
  },
  {
   "cell_type": "markdown",
   "metadata": {},
   "source": [
    "**Q3: implement exact policy iteration (PI) with initial policy π0 = [a1, a1, a2]. Compare the speed of convergence w.r.t. VI and discuss the relative merits of the two approaches.**\n",
    "\n",
    "The initial policy given is the optimal policy. So we initialize our algorithm with $π0 = [a0, a1, a2]$"
   ]
  },
  {
   "cell_type": "code",
   "execution_count": 95,
   "metadata": {},
   "outputs": [
    {
     "name": "stdout",
     "output_type": "stream",
     "text": [
      "[1. 1. 1.]\n",
      "[-1.         -0.95       -2.48629032]\n",
      "[-1.11022302e-16 -1.55983871e+01 -1.55137097e+01]\n",
      "[-14.39115723   0.           0.        ]\n",
      "[0. 0. 0.]\n"
     ]
    },
    {
     "data": {
      "image/png": "[encoded data removed]",
      "text/plain": [
       "<Figure size 432x288 with 1 Axes>"
      ]
     },
     "metadata": {},
     "output_type": "display_data"
    }
   ],
   "source": [
    "from numpy.linalg import inv\n",
    "\n",
    "n_states, n_actions = rewards.shape\n",
    "old_value = np.zeros(n_states)\n",
    "v_pi = np.ones(n_states)\n",
    "policy = np.zeros(n_states)\n",
    "values = []\n",
    "eps = 1e-2\n",
    "error = eps + 1\n",
    "max_iter = 20\n",
    "n = 0\n",
    "\n",
    "def _policy_evaluation(policy, t, r, gamma):\n",
    "    n_states, n_actions = r.shape\n",
    "    r_pi = np.array([r[x, int(policy[x])] for x in range(n_states)])\n",
    "    p_pi = np.array([[t[x, y, int(policy[x])] for y in range(n_states)]  for x in range(n_states)])\n",
    "    v_pi = inv(np.eye(n_states) - gamma*p_pi) @ r_pi\n",
    "    return v_pi\n",
    "\n",
    "def _policy_improvement(v_pi, t, r, gamma):\n",
    "    n_states, n_actions = r.shape\n",
    "    greedy = np.zeros(n_actions)\n",
    "    policy = np.zeros(n_states)\n",
    "    for x in range(n_states):\n",
    "        for a in range(n_actions):\n",
    "            greedy[a] = r[x, a] + gamma * t[x, :, a].dot(v_pi)\n",
    "        policy[x] = np.argmax(greedy)\n",
    "    return policy\n",
    "    \n",
    "def has_converged(v, old_v):\n",
    "    return np.max(np.abs(v - old_v))\n",
    "   \n",
    "while has_converged(v_pi, old_value) and n < max_iter:\n",
    "    old_value = v_pi.copy()\n",
    "    v_pi = _policy_evaluation(policy, transitions, rewards, gamma)\n",
    "    policy = _policy_improvement(v_pi, transitions, rewards, gamma)\n",
    "    error = np.max(v_pi - old_value)\n",
    "    values.append(v_pi.copy())\n",
    "    print(old_value - v_pi)\n",
    "    n += 1\n",
    "\n",
    "\n",
    "v_opt = v_pi\n",
    "errors = np.array(values) - np.tile(v_opt, (n, 1))\n",
    "plt.plot(errors)\n",
    "plt.ylabel(\"$∥v^k −v_∗∥$\")\n",
    "plt.xlabel(\"Step\")\n",
    "plt.show()"
   ]
  },
  {
   "cell_type": "markdown",
   "metadata": {},
   "source": [
    "The convergence of policy iteration is much faster than for value iteration, but an iteration is more computationnally expensive.\n",
    "\n",
    "The convergence of policy iteration is also exact, while it is asymptotic for value iteration"
   ]
  },
  {
   "cell_type": "markdown",
   "metadata": {},
   "source": [
    "## 2. Reinforcement Learning\n",
    "\n",
    "\n",
    "\n",
    "### 2.1 A Review of RL Agent/Environment Interaction\n",
    "\n",
    "#### Policy evaluation. \n",
    "\n",
    "Consider the deterministic policy that is selecting the action right when available, otherwise up.\n",
    "\n",
    "**Q4: denote with $V_n(x,a)$ the value function estimated using Monte-Carlo, i.e., empirical average:\n",
    "$$V(s)= \\frac{1}{N(s)}\\sum_{k=1}^{N(s)}\\sum_{t=1}^{T_{max}} \\gamma^{t-1}r_t^{(k)}$$\n",
    "with $s_1=s,a_t∼π(·|s_t)$\n",
    " where $\\sum_s N(s) = n$ and $(r_t^{(k)})$\n",
    "is the sequence of rewards obtained when simulating the k-th trajectory st\n",
    "(using the simulator).\n",
    "Build such estimator and plot $J_n − J^π$ as a function of n, where\n",
    "$$V_π =[0.877,0.928,0.988,0,0.671,−0.994,0,−0.828,−0.877,−0.934,−0.994]T$$**"
   ]
  },
  {
   "cell_type": "code",
   "execution_count": 202,
   "metadata": {},
   "outputs": [
    {
     "data": {
      "image/png": "[encoded data removed]",
      "text/plain": [
       "<Figure size 432x288 with 1 Axes>"
      ]
     },
     "metadata": {},
     "output_type": "display_data"
    }
   ],
   "source": [
    "from gridworld import GridWorld1\n",
    "env = GridWorld1\n",
    "\n",
    "def evaluate_dist_mu(env, n_iter=50000):\n",
    "    mu0 = [env.reset() for i in range(n_iter)]\n",
    "    dist_mu, _ = np.histogram(mu0, bins=env.n_states)\n",
    "    return mu0, dist_mu/n_iter\n",
    "\n",
    "mu0, dist_mu = evaluate_dist_mu(env)\n",
    "plt.figure()\n",
    "plt.title(\"Distribution of $\\mu_0$\")\n",
    "plt.hist(mu0, bins=env.n_states, density=True, edgecolor='k', alpha=0.5)\n",
    "plt.show()"
   ]
  },
  {
   "cell_type": "code",
   "execution_count": 226,
   "metadata": {},
   "outputs": [],
   "source": [
    "def _mc_simulations(env, E, Tmax=100):\n",
    "    all_actions = []\n",
    "    all_rewards = []\n",
    "    all_states = []\n",
    "\n",
    "    for e in range(E):\n",
    "        s = env.reset()\n",
    "        t = 0\n",
    "        term = False \n",
    "        reward_e = []\n",
    "        state_e = []\n",
    "        action_e = []\n",
    "        while t < Tmax and not term:\n",
    "            a = np.random.choice(env.state_actions[s])\n",
    "            s, r, term = env.step(s, a)\n",
    "            reward_e.append(r)\n",
    "            action_e.append(a)\n",
    "            state_e.append(s)\n",
    "            t += 1\n",
    "        all_rewards.append(np.array(reward_e))\n",
    "        all_states.append(np.array(state_e))\n",
    "        all_actions.append(np.array(action_e))\n",
    "        \n",
    "    return all_rewards, all_states, all_actions\n",
    "\n",
    "def _find_trajectories(s, all_states):\n",
    "    trajectories = []\n",
    "    for k, states in enumerate(all_states):\n",
    "        if states[0] == s:\n",
    "            trajectories.append(k)\n",
    "    return trajectories \n",
    "\n",
    "def _discounted_reward(rewards, gamma=0.95):\n",
    "    acc = 0.0\n",
    "    for t in range(1, len(rewards)+1):\n",
    "        acc += gamma**(t-1)*rewards[t-1]\n",
    "    return acc\n",
    "\n",
    "def mc_value(env, N, gamma=0.95, Tmax=100):\n",
    "    Vn = np.zeros(env.n_states)\n",
    "    all_rewards, all_states, all_actions = _mc_simulations(env, N, Tmax=Tmax)\n",
    "    for s in range(env.n_states):\n",
    "        trajectories = _find_trajectories(s, all_states)\n",
    "        Ns = len(trajectories)\n",
    "        if Ns == 0:\n",
    "            continue\n",
    "        acc = 0.0\n",
    "        for k in range(Ns):\n",
    "            states = all_states[k]\n",
    "            rewards = all_rewards[k]\n",
    "            actions = all_actions[k]\n",
    "            acc += _discounted_reward(rewards, gamma)\n",
    "        Vn[s] = acc/Ns\n",
    "    return Vn"
   ]
  },
  {
   "cell_type": "code",
   "execution_count": 227,
   "metadata": {},
   "outputs": [],
   "source": [
    "def ponderate_value(values, dist_mu):\n",
    "    return values.dot(dist_mu)\n",
    "\n",
    "_, dist_mu = evaluate_dist_mu(env)\n",
    "n_values = 500\n",
    "V = np.zeros((n_values, env.n_states))\n",
    "J = np.zeros(n_values)\n",
    "for n in range(n_values):\n",
    "    V[n,:] = mc_value(env, n+5)\n",
    "    J[n] = ponderate_value(V[n], dist_mu)\n",
    "    \n"
   ]
  },
  {
   "cell_type": "code",
   "execution_count": 228,
   "metadata": {},
   "outputs": [
    {
     "data": {
      "text/plain": [
       "[<matplotlib.lines.Line2D at 0x10ed3d3c8>]"
      ]
     },
     "execution_count": 228,
     "metadata": {},
     "output_type": "execute_result"
    },
    {
     "data": {
      "image/png": "[encoded data removed]",
      "text/plain": [
       "<Figure size 432x288 with 1 Axes>"
      ]
     },
     "metadata": {},
     "output_type": "display_data"
    }
   ],
   "source": [
    "Vpi = np.array([0.877,0.928,0.988,0,0.671,-0.994,0,-0.828,-0.877,-0.934,-0.994])\n",
    "Jpi = ponderate_value(Vpi, dist_mu)\n",
    "\n",
    "plt.plot(J-Jpi)"
   ]
  },
  {
   "cell_type": "markdown",
   "metadata": {},
   "source": [
    "**Q5: Describe the (parameters of the) exploration policy and learning rate chosen, and illustrate the convergence of Q-Learning using the following performance metrics:**\n",
    "- Performance over all the other state $||v_∗ − v^{π_n} ||_∞$, where $π_n$ is the greedy policy w.r.t. $Q_n$ at the end of the n-th episode\n",
    "- Reward cumulated over the episode \n",
    "Note that\n",
    "$$v∗ =[0.877,0.928,0.988,0,0.824,0.928,0,0.778,0.824,0.877,0.828]^T.$$"
   ]
  },
  {
   "cell_type": "code",
   "execution_count": null,
   "metadata": {},
   "outputs": [],
   "source": []
  }
 ],
 "metadata": {
  "kernelspec": {
   "display_name": "Python 3",
   "language": "python",
   "name": "python3"
  },
  "language_info": {
   "codemirror_mode": {
    "name": "ipython",
    "version": 3
   },
   "file_extension": ".py",
   "mimetype": "text/x-python",
   "name": "python",
   "nbconvert_exporter": "python",
   "pygments_lexer": "ipython3",
   "version": "3.6.5"
  }
 },
 "nbformat": 4,
 "nbformat_minor": 2
}

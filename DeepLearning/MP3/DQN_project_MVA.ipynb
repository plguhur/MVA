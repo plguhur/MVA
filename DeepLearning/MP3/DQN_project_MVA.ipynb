{
 "cells": [
  {
   "cell_type": "markdown",
   "metadata": {},
   "source": [
    "**You may need to install [OpenCV](https://pypi.python.org/pypi/opencv-python) and [scikit-video](http://www.scikit-video.org/stable/).**"
   ]
  },
  {
   "cell_type": "code",
   "execution_count": null,
   "metadata": {},
   "outputs": [],
   "source": [
    "import keras\n",
    "import numpy as np\n",
    "import io\n",
    "import base64\n",
    "from IPython.display import HTML\n",
    "import skvideo.io\n",
    "import cv2\n",
    "import json\n",
    "\n",
    "from keras.models import Sequential,model_from_json\n",
    "from keras.layers.core import Dense, Flatten\n",
    "from keras.optimizers import sgd, adam\n",
    "from keras.layers import Conv2D, MaxPooling2D, Activation, AveragePooling2D,Reshape,BatchNormalization"
   ]
  },
  {
   "cell_type": "markdown",
   "metadata": {},
   "source": [
    "# MiniProject #3: Deep Reinforcement Learning"
   ]
  },
  {
   "cell_type": "markdown",
   "metadata": {},
   "source": [
    "__Notations__: $E_p$ is the expectation under probability $p$. Please justify each of your answer and widely comment your code."
   ]
  },
  {
   "cell_type": "markdown",
   "metadata": {},
   "source": [
    "# Context"
   ]
  },
  {
   "cell_type": "markdown",
   "metadata": {},
   "source": [
    "In a reinforcement learning algorithm, we modelize each step $t$ as an action $a_t$ obtained from a state $s_t$, i.e. $\\{(a_{t},s_{t})_{t\\leq T}\\}$ having the Markov property. We consider a discount factor $\\gamma \\in [0,1]$ that ensures convergence. The goal is to find among all the policies $\\pi$, one that maximizes the expected reward:\n",
    "\n",
    "\\begin{equation*}\n",
    "R(\\pi)=\\sum_{t\\leq T}E_{p^{\\pi}}[\\gamma^t r(s_{t},a_{t})] \\> ,\n",
    "\\end{equation*}\n",
    "\n",
    "where: \n",
    "\\begin{equation*}p^{\\pi}(a_{0},a_{1},s_{1},...,a_{T},s_{T})=p(a_{0})\\prod_{t=1}^{T}\\pi(a_{t}|s_{t})p(s_{t+1}|s_{t},a_{t}) \\> .\n",
    "\\end{equation*}\n",
    "\n",
    "We note the $Q$-function:\n",
    "\n",
    "\\begin{equation*}Q^\\pi(s,a)=E_{p^{\\pi}}[\\sum_{t\\leq T}\\gamma^{t}r(s_{t},a_{t})|s_{0}=s,a_{0}=a] \\> .\n",
    "\\end{equation*}\n",
    "\n",
    "Thus, the optimal Q function is:\n",
    "\\begin{equation*}\n",
    "Q^*(s,a)=\\max_{\\pi}Q^\\pi(s,a) \\> .\n",
    "\\end{equation*}\n",
    "\n",
    "In this project, we will apply the deep reinforcement learning techniques to a simple game: an agent will have to learn from scratch a policy that will permit it maximizing a reward."
   ]
  },
  {
   "cell_type": "markdown",
   "metadata": {},
   "source": [
    "## The environment, the agent and the game"
   ]
  },
  {
   "cell_type": "markdown",
   "metadata": {},
   "source": [
    "### The environment"
   ]
  },
  {
   "cell_type": "markdown",
   "metadata": {},
   "source": [
    "```Environment``` is an abstract class that represents the states, rewards, and actions to obtain the new state."
   ]
  },
  {
   "cell_type": "code",
   "execution_count": 3,
   "metadata": {},
   "outputs": [],
   "source": [
    "class Environment(object):\n",
    "    def __init__(self):\n",
    "        pass\n",
    "\n",
    "    def act(self, act):\n",
    "        \"\"\"\n",
    "        One can act on the environment and obtain its reaction:\n",
    "        - the new state\n",
    "        - the reward of the new state\n",
    "        - should we continue the game?\n",
    "\n",
    "        :return: state, reward, game_over\n",
    "        \"\"\"\n",
    "        pass\n",
    "\n",
    "\n",
    "    def reset(self):\n",
    "        \"\"\"\n",
    "        Reinitialize the environment to a random state and returns\n",
    "        the original state\n",
    "\n",
    "        :return: state\n",
    "        \"\"\"\n",
    "        pass\n",
    "    \n",
    "    def draw(self):\n",
    "        \"\"\"\n",
    "        Visualize in the console or graphically the current state\n",
    "        \"\"\"\n",
    "        pass"
   ]
  },
  {
   "cell_type": "markdown",
   "metadata": {},
   "source": [
    "The method ```act``` allows to act on the environment at a given state $s_t$ (stored internally), via action $a_t$. The method will return the new state $s_{t+1}$, the reward $r(s_{t},a_{t})$ and determines if $t\\leq T$ (*game_over*).\n",
    "\n",
    "The method ```reset``` simply reinitializes the environment to a random state $s_0$.\n",
    "\n",
    "The method ```draw``` displays the current state $s_t$ (this is useful to check the behavior of the Agent).\n",
    "\n",
    "We modelize $s_t$ as a tensor, while $a_t$ is an integer."
   ]
  },
  {
   "cell_type": "markdown",
   "metadata": {},
   "source": [
    "### The Agent"
   ]
  },
  {
   "cell_type": "markdown",
   "metadata": {},
   "source": [
    "The goal of the ```Agent``` is to interact with the ```Environment``` by proposing actions $a_t$ obtained from a given state $s_t$ to attempt to maximize its __reward__ $r(s_t,a_t)$. We propose the following abstract class:"
   ]
  },
  {
   "cell_type": "code",
   "execution_count": 4,
   "metadata": {},
   "outputs": [],
   "source": [
    "class Agent(object):\n",
    "    def __init__(self, epsilon=0.1, n_action=4):\n",
    "        self.epsilon = epsilon\n",
    "        self.n_action = n_action\n",
    "    \n",
    "    def set_epsilon(self,e):\n",
    "        self.epsilon = e\n",
    "\n",
    "    def act(self,s,train=True):\n",
    "        \"\"\" This function should return the next action to do:\n",
    "        an integer between 0 and 4 (not included) with a random exploration of epsilon\"\"\"\n",
    "        if train:\n",
    "            if np.random.rand() <= self.epsilon:\n",
    "                a = np.random.randint(0, self.n_action, size=1)[0]\n",
    "            else:\n",
    "                a = self.learned_act(s)\n",
    "        else: # in some cases, this can improve the performance.. remove it if poor performances\n",
    "            a = self.learned_act(s)\n",
    "\n",
    "        return a\n",
    "\n",
    "    def learned_act(self,s):\n",
    "        \"\"\" Act via the policy of the agent, from a given state s\n",
    "        it proposes an action a\"\"\"\n",
    "        pass\n",
    "\n",
    "    def reinforce(self, s, n_s, a, r, game_over_):\n",
    "        \"\"\" This function is the core of the learning algorithm. \n",
    "        It takes as an input the current state s_, the next state n_s_\n",
    "        the action a_ used to move from s_ to n_s_ and the reward r_.\n",
    "        \n",
    "        Its goal is to learn a policy.\n",
    "        \"\"\"\n",
    "        pass\n",
    "\n",
    "    def save(self):\n",
    "        \"\"\" This function returns basic stats if applicable: the\n",
    "        loss and/or the model\"\"\"\n",
    "        pass\n",
    "\n",
    "    def load(self):\n",
    "        \"\"\" This function allows to restore a model\"\"\"\n",
    "        pass"
   ]
  },
  {
   "cell_type": "markdown",
   "metadata": {},
   "source": [
    "***\n",
    "__Question 1__:\n",
    "Explain the function act. Why is ```epsilon``` essential?"
   ]
  },
  {
   "cell_type": "markdown",
   "metadata": {},
   "source": [
    "The function `act` selects the action that maximizes the $V$ function for a given step. \n",
    "The function implements the $\\epsilon$-greedy algorithm, that allows sometimes the agent to explore the environment in order to find a better action that those previously learned. "
   ]
  },
  {
   "cell_type": "markdown",
   "metadata": {},
   "source": [
    "***\n",
    "### The Game"
   ]
  },
  {
   "cell_type": "markdown",
   "metadata": {},
   "source": [
    "The ```Agent``` and the ```Environment``` work in an interlaced way as in the following (take some time to understand this code as it is the core of the project)\n",
    "\n",
    "```python\n",
    "\n",
    "epoch = 300\n",
    "env = Environment()\n",
    "agent = Agent()\n",
    "\n",
    "\n",
    "# Number of won games\n",
    "score = 0\n",
    "loss = 0\n",
    "\n",
    "\n",
    "for e in range(epoch):\n",
    "    # At each epoch, we restart to a fresh game and get the initial state\n",
    "    state = env.reset()\n",
    "    # This assumes that the games will end\n",
    "    game_over = False\n",
    "\n",
    "    win = 0\n",
    "    lose = 0\n",
    "    \n",
    "    while not game_over:\n",
    "        # The agent performs an action\n",
    "        action = agent.act(state)\n",
    "\n",
    "        # Apply an action to the environment, get the next state, the reward\n",
    "        # and if the games end\n",
    "        prev_state = state\n",
    "        state, reward, game_over = env.act(action)\n",
    "\n",
    "        # Update the counters\n",
    "        if reward > 0:\n",
    "            win = win + reward\n",
    "        if reward < 0:\n",
    "            lose = lose -reward\n",
    "\n",
    "        # Apply the reinforcement strategy\n",
    "        loss = agent.reinforce(prev_state, state,  action, reward, game_over)\n",
    "\n",
    "    # Save as a mp4\n",
    "    if e % 10 == 0:\n",
    "        env.draw(e)\n",
    "\n",
    "    # Update stats\n",
    "    score += win-lose\n",
    "\n",
    "    print(\"Epoch {:03d}/{:03d} | Loss {:.4f} | Win/lose count {}/{} ({})\"\n",
    "          .format(e, epoch, loss, win, lose, win-lose))\n",
    "    agent.save()\n",
    "```"
   ]
  },
  {
   "cell_type": "markdown",
   "metadata": {},
   "source": [
    "# The game, *eat cheese*"
   ]
  },
  {
   "cell_type": "markdown",
   "metadata": {},
   "source": [
    "A rat runs on an island and tries to eat as much as possible. The island is subdivided into $N\\times N$ cells, in which there are cheese (+0.5) and poisonous cells (-1). The rat has a visibility of 2 cells (thus it can see $5^2$ cells). The rat is given a time $T$ to accumulate as much food as possible. It can perform 4 actions: going up, down, left, right. \n",
    "\n",
    "The goal is to code an agent to solve this task that will learn by trial and error. We propose the following environment:"
   ]
  },
  {
   "cell_type": "code",
   "execution_count": null,
   "metadata": {},
   "outputs": [],
   "source": [
    "class Environment(object):\n",
    "    def __init__(self, grid_size=10, max_time=500, temperature=0.1):\n",
    "        grid_size = grid_size+4\n",
    "        self.grid_size = grid_size\n",
    "        self.max_time = max_time\n",
    "        self.temperature = temperature\n",
    "\n",
    "        #board on which one plays\n",
    "        self.board = np.zeros((grid_size,grid_size))\n",
    "        self.position = np.zeros((grid_size,grid_size))\n",
    "\n",
    "        # coordinate of the cat\n",
    "        self.x = 0\n",
    "        self.y = 1\n",
    "\n",
    "        # self time\n",
    "        self.t = 0\n",
    "\n",
    "        self.scale=16\n",
    "\n",
    "        self.to_draw = np.zeros((max_time+2, grid_size*self.scale, grid_size*self.scale, 3))\n",
    "\n",
    "\n",
    "    def draw(self,e):\n",
    "        skvideo.io.vwrite(str(e) + '.mp4', self.to_draw)\n",
    "\n",
    "    def get_frame(self,t):\n",
    "        b = np.zeros((self.grid_size,self.grid_size,3))+128\n",
    "        b[self.board>0,0] = 256 # bonus appears in red\n",
    "        b[self.board < 0, 2] = 256 # malus appears in blue\n",
    "        b[self.x,self.y,:]=256\n",
    "        b[-2:,:,:]=0\n",
    "        b[:,-2:,:]=0\n",
    "        b[:2,:,:]=0\n",
    "        b[:,:2,:]=0\n",
    "        \n",
    "        b =  cv2.resize(b, None, fx=self.scale, fy=self.scale, interpolation=cv2.INTER_NEAREST)\n",
    "        self.to_draw[t,:,:,:]=b\n",
    "\n",
    "\n",
    "    def act(self, action):\n",
    "        \"\"\"This function returns the new state, reward and decides if the\n",
    "        game ends.\"\"\"\n",
    "\n",
    "        self.get_frame(int(self.t))\n",
    "\n",
    "        self.position = np.zeros((self.grid_size, self.grid_size))\n",
    "\n",
    "        self.position[0:2,:]= -1\n",
    "        self.position[:,0:2] = -1\n",
    "        self.position[-2:, :] = -1\n",
    "        self.position[-2:, :] = -1\n",
    "\n",
    "        self.position[self.x, self.y] = 1\n",
    "        if action == 0:\n",
    "            if self.x == self.grid_size-3:\n",
    "                self.x = self.x-1\n",
    "            else:\n",
    "                self.x = self.x + 1\n",
    "        elif action == 1:\n",
    "            if self.x == 2:\n",
    "                self.x = self.x+1\n",
    "            else:\n",
    "                self.x = self.x-1\n",
    "        elif action == 2:\n",
    "            if self.y == self.grid_size - 3:\n",
    "                self.y = self.y - 1\n",
    "            else:\n",
    "                self.y = self.y + 1\n",
    "        elif action == 3:\n",
    "            if self.y == 2:\n",
    "                self.y = self.y + 1\n",
    "            else:\n",
    "                self.y = self.y - 1\n",
    "        else:\n",
    "            RuntimeError('Error: action not recognized')\n",
    "\n",
    "        self.t = self.t + 1\n",
    "        reward = self.board[self.x, self.y]\n",
    "        self.board[self.x, self.y] = 0\n",
    "        game_over = self.t > self.max_time\n",
    "        state = np.concatenate((self.board.reshape(self.grid_size, self.grid_size,1),\n",
    "                        self.position.reshape(self.grid_size, self.grid_size,1)),axis=2)\n",
    "        state = state[self.x-2:self.x+3,self.y-2:self.y+3,:]\n",
    "\n",
    "        return state, reward, game_over\n",
    "\n",
    "    def reset(self):\n",
    "        \"\"\"This function resets the game and returns the initial state\"\"\"\n",
    "\n",
    "        self.x = np.random.randint(3, self.grid_size-3, size=1)[0]\n",
    "        self.y = np.random.randint(3, self.grid_size-3, size=1)[0]\n",
    "\n",
    "\n",
    "        bonus = 0.5*np.random.binomial(1,self.temperature,size=self.grid_size**2)\n",
    "        bonus = bonus.reshape(self.grid_size,self.grid_size)\n",
    "\n",
    "        malus = -1.0*np.random.binomial(1,self.temperature,size=self.grid_size**2)\n",
    "        malus = malus.reshape(self.grid_size, self.grid_size)\n",
    "\n",
    "        self.to_draw = np.zeros((self.max_time+2, self.grid_size*self.scale, self.grid_size*self.scale, 3))\n",
    "\n",
    "\n",
    "        malus[bonus>0]=0\n",
    "\n",
    "        self.board = bonus + malus\n",
    "\n",
    "        self.position = np.zeros((self.grid_size, self.grid_size))\n",
    "        self.position[0:2,:]= -1\n",
    "        self.position[:,0:2] = -1\n",
    "        self.position[-2:, :] = -1\n",
    "        self.position[-2:, :] = -1\n",
    "        self.board[self.x,self.y] = 0\n",
    "        self.t = 0\n",
    "\n",
    "        state = np.concatenate((\n",
    "                               self.board.reshape(self.grid_size, self.grid_size,1),\n",
    "                        self.position.reshape(self.grid_size, self.grid_size,1)),axis=2)\n",
    "\n",
    "        state = state[self.x - 2:self.x + 3, self.y - 2:self.y + 3, :]\n",
    "        return state"
   ]
  },
  {
   "cell_type": "markdown",
   "metadata": {},
   "source": [
    "The following elements are important because they correspond to the hyper parameters for this project:"
   ]
  },
  {
   "cell_type": "code",
   "execution_count": null,
   "metadata": {},
   "outputs": [],
   "source": [
    "# parameters\n",
    "size = 13\n",
    "T = 500\n",
    "temperature = 0.3\n",
    "epochs_train = 10 # set small when debugging\n",
    "epochs_test = 50 # set small when debugging\n",
    "\n",
    "# display videos\n",
    "def display_videos(name):\n",
    "    video = io.open(name, 'r+b').read()\n",
    "    encoded = base64.b64encode(video)\n",
    "    return '''<video alt=\"test\" controls>\n",
    "                <source src=\"data:video/mp4;base64,{0}\" type=\"video/mp4\" />\n",
    "             </video>'''.format(encoded.decode('ascii'))"
   ]
  },
  {
   "cell_type": "markdown",
   "metadata": {},
   "source": [
    "__Question 2__ Explain the use of the arrays ```position``` and ```board```."
   ]
  },
  {
   "cell_type": "markdown",
   "metadata": {},
   "source": [
    "- `position` contains the borders of (`-1`), the free spaces (`0`) and the position of the mouse (`1`). \n",
    "- `board` contains the rewards (`+0.5`) and the penalties (`-1`)."
   ]
  },
  {
   "cell_type": "markdown",
   "metadata": {},
   "source": [
    "## Random Agent"
   ]
  },
  {
   "cell_type": "markdown",
   "metadata": {},
   "source": [
    "***\n",
    "__Question 3__ Implement a random Agent (only ```learned_act``` needs to be implemented):"
   ]
  },
  {
   "cell_type": "code",
   "execution_count": 7,
   "metadata": {},
   "outputs": [],
   "source": [
    "class RandomAgent(Agent):\n",
    "    def __init__(self):\n",
    "        super(RandomAgent, self).__init__()\n",
    "        pass\n",
    "\n",
    "    def learned_act(self, s):\n",
    "        return np.random.randint(0, self.n_action)"
   ]
  },
  {
   "cell_type": "markdown",
   "metadata": {},
   "source": [
    "***\n",
    "***\n",
    "__Question 4__ Visualize the game moves. You need to fill in the following function for the evaluation:"
   ]
  },
  {
   "cell_type": "code",
   "execution_count": 21,
   "metadata": {},
   "outputs": [],
   "source": [
    "def test(agent, env, epochs, prefix=''):\n",
    "    # Number of won games\n",
    "    score = 0\n",
    "        \n",
    "    for e in range(1, epochs + 1):\n",
    "        # Restart the game setup\n",
    "        state = env.reset()\n",
    "        terminal = False\n",
    "\n",
    "        while not terminal:\n",
    "            # Select an action\n",
    "            action = agent.act(state)\n",
    "\n",
    "            # Apply an action to the environment, get the next state, the reward\n",
    "            # and if the games end\n",
    "            prev_state = state\n",
    "            state, reward, terminal = env.act(action)\n",
    "\n",
    "            # Update stats\n",
    "            win = max(reward, 0)\n",
    "            loss = min(reward, 0)\n",
    "            score += win-loss\n",
    "        \n",
    "        # Save as a mp4\n",
    "        env.draw(prefix + str(e))\n",
    "\n",
    "    print('Final score: {}'.format(score / epochs))"
   ]
  },
  {
   "cell_type": "code",
   "execution_count": null,
   "metadata": {},
   "outputs": [],
   "source": [
    "# Initialize the game\n",
    "env = Environment(grid_size=size, max_time=T,temperature=temperature)\n",
    "\n",
    "# Initialize the agent!\n",
    "agent = RandomAgent()\n",
    "\n",
    "test(agent,env,epochs_test,prefix='random')"
   ]
  },
  {
   "cell_type": "code",
   "execution_count": 26,
   "metadata": {},
   "outputs": [
    {
     "data": {
      "text/html": [
       "<video alt=\"test\" controls>\n",
       "                <source src=\"data:video/mp4;base64,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\" type=\"video/mp4\" />\n",
       "             </video>"
      ],
      "text/plain": [
       "<IPython.core.display.HTML object>"
      ]
     },
     "execution_count": 26,
     "metadata": {},
     "output_type": "execute_result"
    }
   ],
   "source": [
    "HTML(display_videos('random1.mp4'))"
   ]
  },
  {
   "cell_type": "markdown",
   "metadata": {},
   "source": [
    "***\n",
    "## DQN"
   ]
  },
  {
   "cell_type": "markdown",
   "metadata": {},
   "source": [
    "Let us assume here that $T=\\infty$.\n",
    "\n",
    "***\n",
    "__Question 5__ Let $\\pi$ be a policy, show that:\n",
    "\n",
    "\\begin{equation*}\n",
    "Q^{\\pi}(s,a)=E_{(s',a')\\sim p(.|s,a)}[r(s,a)+\\gamma Q^{\\pi}(s',a')]\n",
    "\\end{equation*}\n",
    "\n",
    "Then, show that for the optimal policy $\\pi^*$ (we assume its existence), the following holds: \n",
    "\n",
    "\\begin{equation*}\n",
    "Q^{*}(s,a)=E_{s'\\sim \\pi^*(.|s,a)}[r(s,a)+\\gamma\\max_{a'}Q^{*}(s',a')].\n",
    "\\end{equation*}\n",
    "Finally, deduce that a plausible objective is:\n",
    "\n",
    "\\begin{equation*}\n",
    "\\mathcal{L}(\\theta)=E_{s' \\sim \\pi^*(.|s,a)}\\Vert r+\\gamma\\max\\max_{a'}Q(s',a',\\theta)-Q(s,a,\\theta)\\Vert^{2}.\n",
    "\\end{equation*}\n",
    "\n",
    "\n"
   ]
  },
  {
   "cell_type": "markdown",
   "metadata": {},
   "source": []
  },
  {
   "cell_type": "markdown",
   "metadata": {},
   "source": [
    "***\n",
    "The DQN-learning algorithm relies on these derivations to train the parameters $\\theta$ of a Deep Neural Network:\n",
    "\n",
    "1. At the state $s_t$, select the action $a_t$ with best reward using $Q_t$ and store the results;\n",
    "\n",
    "2. Obtain the new state $s_{t+1}$ from the environment $p$;\n",
    "\n",
    "3. Store $(s_t,a_t,s_{t+1})$;\n",
    "\n",
    "4. Obtain $Q_{t+1}$ by minimizing  $\\mathcal{L}$ from a recovered batch from the previously stored results.\n",
    "\n",
    "***\n",
    "__Question 6__ Implement the class ```Memory``` that stores moves (in a replay buffer) via ```remember``` and provides a ```random_access``` to these. Specify a maximum memory size to avoid side effects. You can for example use a ```list()``` and set by default ```max_memory=100```."
   ]
  },
  {
   "cell_type": "code",
   "execution_count": null,
   "metadata": {},
   "outputs": [],
   "source": [
    "from collections import deque\n",
    "from random import choices \n",
    "\n",
    "class Memory(object):\n",
    "    def __init__(self, max_memory=100):\n",
    "        self.max_memory = max_memory\n",
    "        self.memory = deque(maxlen=max_memory)\n",
    "\n",
    "    def remember(self, m):\n",
    "        self.memory.append(m)\n",
    "\n",
    "    def random_access(self, batch_size=1):\n",
    "        return choices(self.memory, k=batch_size)"
   ]
  },
  {
   "cell_type": "markdown",
   "metadata": {},
   "source": [
    "***\n",
    "The pipeline we will use for training is given below:"
   ]
  },
  {
   "cell_type": "code",
   "execution_count": null,
   "metadata": {},
   "outputs": [],
   "source": [
    "def train(agent,env,epoch,prefix=''):\n",
    "    # Number of won games\n",
    "    score = 0\n",
    "    loss = 0\n",
    "\n",
    "    for e in range(epoch):\n",
    "        # At each epoch, we restart to a fresh game and get the initial state\n",
    "        state = env.reset()\n",
    "        # This assumes that the games will terminate\n",
    "        game_over = False\n",
    "\n",
    "        win = 0\n",
    "        lose = 0\n",
    "\n",
    "        while not game_over:\n",
    "            # The agent performs an action\n",
    "            action = agent.act(state)\n",
    "\n",
    "            # Apply an action to the environment, get the next state, the reward\n",
    "            # and if the games end\n",
    "            prev_state = state\n",
    "            state, reward, game_over = env.act(action)\n",
    "\n",
    "            # Update the counters\n",
    "            if reward > 0:\n",
    "                win = win + reward\n",
    "            if reward < 0:\n",
    "                lose = lose -reward\n",
    "\n",
    "            # Apply the reinforcement strategy\n",
    "            loss = agent.reinforce(prev_state, state,  action, reward, game_over)\n",
    "\n",
    "        # Save as a mp4\n",
    "        if e % 10 == 0:\n",
    "            env.draw(prefix+str(e))\n",
    "\n",
    "        # Update stats\n",
    "        score += win-lose\n",
    "\n",
    "        print(\"Epoch {:03d}/{:03d} | Loss {:.4f} | Win/lose count {}/{} ({})\"\n",
    "              .format(e, epoch, loss, win, lose, win-lose))\n",
    "        agent.save(name_weights=prefix+'model.h5',name_model=prefix+'model.json')"
   ]
  },
  {
   "cell_type": "markdown",
   "metadata": {},
   "source": [
    "***\n",
    "__Question 7__ Implement the DQN training algorithm using a cascade of fully connected layers. You can use different learning rate, batch size or memory size parameters. In particular, the loss might oscillate while the player will start to win the games. You have to find a good criterium."
   ]
  },
  {
   "cell_type": "code",
   "execution_count": null,
   "metadata": {},
   "outputs": [],
   "source": [
    "class DQN(Agent):\n",
    "    def __init__(self, grid_size,  epsilon = 0.1, memory_size=100, batch_size = 16,n_state=2):\n",
    "        super(DQN, self).__init__(epsilon = epsilon)\n",
    "\n",
    "        # Discount for Q learning\n",
    "        self.discount = 0.99\n",
    "        \n",
    "        self.grid_size = grid_size\n",
    "        \n",
    "        # number of state\n",
    "        self.n_state = n_state\n",
    "\n",
    "        # Memory\n",
    "        self.memory = Memory(memory_size)\n",
    "        \n",
    "        # Batch size when learning\n",
    "        self.batch_size = batch_size\n",
    "\n",
    "    def learned_act(self, s):\n",
    "        q = self.model.predict(s.reshape(-1, 5, 5, self.n_state)).ravel()\n",
    "        return np.argmax(q)\n",
    "\n",
    "    def reinforce(self, s_, n_s_, a_, r_, game_over_):\n",
    "        # Two steps: first memorize the states, second learn from the pool\n",
    "        self.memory.remember([s_, n_s_, a_, r_, game_over_])\n",
    "        samples = self.memory.random_access(self.batch_size)        \n",
    "        input_states = np.zeros((self.batch_size, 5, 5, self.n_state))\n",
    "        next_states = np.zeros((self.batch_size, 5, 5, self.n_state))\n",
    "        \n",
    "        for i in range(self.batch_size):\n",
    "            state, next_state, action, reward, game_over = samples[i]\n",
    "            input_states[i] = state\n",
    "            next_states[i] = next_state\n",
    "            \n",
    "        q = self.model.predict(input_states)\n",
    "        q_hat = self.model.predict(next_states)\n",
    "        target_q = q.copy()\n",
    "            \n",
    "        for i in range(self.batch_size):\n",
    "            state, next_state, action, reward, game_over = samples[i]            \n",
    "            target_q[i, action] = reward + self.discount * np.max(q_hat[i])\n",
    "        \n",
    "        # HINT: Clip the target to avoid exploiding gradients.. -- clipping is a bit tighter\n",
    "        target_q = np.clip(target_q, -3, 3)\n",
    "\n",
    "        l = self.model.train_on_batch(input_states, target_q)\n",
    "        return l\n",
    "        \n",
    "\n",
    "    def save(self,name_weights='model.h5',name_model='model.json'):\n",
    "        self.model.save_weights(name_weights, overwrite=True)\n",
    "        with open(name_model, \"w\") as outfile:\n",
    "            json.dump(self.model.to_json(), outfile)\n",
    "            \n",
    "    def load(self,name_weights='model.h5',name_model='model.json'):\n",
    "        with open(name_model, \"r\") as jfile:\n",
    "            model = model_from_json(json.load(jfile))\n",
    "        model.load_weights(name_weights)\n",
    "        model.compile(\"adam\", \"mse\")\n",
    "        self.model = model\n",
    "\n",
    "            \n",
    "            \n",
    "class DQN_FC(DQN):\n",
    "    def __init__(self, *args, lr=1e-4, **kwargs):\n",
    "        super(DQN_FC, self).__init__( *args, **kwargs)\n",
    "        n_actions = 4\n",
    "        # NN Model\n",
    "        model = Sequential([\n",
    "            Flatten(input_shape=(5, 5, self.n_state)),\n",
    "            Dense(10, activation='relu'),\n",
    "            Dense(10, activation='relu'),\n",
    "            Dense(n_actions),\n",
    "        ])\n",
    "         \n",
    "        model.compile(adam(lr=lr), \"mse\")\n",
    "        self.model = model"
   ]
  },
  {
   "cell_type": "code",
   "execution_count": null,
   "metadata": {},
   "outputs": [],
   "source": [
    "env = Environment(grid_size=size, max_time=T, temperature=0.3)\n",
    "agent = DQN_FC(size, epsilon = 0.1, memory_size=2000, batch_size = 32)\n",
    "train(agent, env, epochs_train, prefix='fc_train')\n",
    "HTML(display_videos('fc_train10.mp4'))"
   ]
  },
  {
   "cell_type": "markdown",
   "metadata": {},
   "source": [
    "***\n",
    "***\n",
    "__Question 8__ Implement the DQN training algorithm using a CNN (for example, 2 convolutional layers and one final fully connected layer)."
   ]
  },
  {
   "cell_type": "code",
   "execution_count": null,
   "metadata": {},
   "outputs": [],
   "source": [
    "class DQN_CNN(DQN):\n",
    "    def __init__(self, *args,lr=1e-4,**kwargs):\n",
    "        super(DQN_CNN, self).__init__(*args,**kwargs)\n",
    "        \n",
    "        model = Sequential([\n",
    "            Conv2D(8, (3, 3), activation='relu', input_shape=(5, 5, self.n_state)),\n",
    "            Conv2D(8, (3, 3), activation='relu'),\n",
    "            Flatten(),\n",
    "            Dense(4),\n",
    "        ])\n",
    "        \n",
    "        model.summary()\n",
    "        \n",
    "        model.compile(adam(lr=lr), \"mse\")\n",
    "        self.model = model"
   ]
  },
  {
   "cell_type": "code",
   "execution_count": null,
   "metadata": {},
   "outputs": [],
   "source": [
    "env = Environment(grid_size=size, max_time=T, temperature=0.3)\n",
    "agent = DQN_CNN(size, lr=1e-4, epsilon = 0.1, memory_size=2000, batch_size = 32)\n",
    "train(agent,env,epochs_train,prefix='cnn_train')\n",
    "HTML(display_videos('cnn_train10.mp4'))"
   ]
  },
  {
   "cell_type": "markdown",
   "metadata": {},
   "source": [
    "***\n",
    "***\n",
    "__Question 9__ Test both algorithms and compare their performances. Which issue(s) do you observe? Observe also different behaviors by changing the temperature."
   ]
  },
  {
   "cell_type": "code",
   "execution_count": null,
   "metadata": {},
   "outputs": [],
   "source": [
    "env = Environment(grid_size=size, max_time=T,temperature=0.3)\n",
    "agent_cnn = DQN_CNN(size, lr=.1, epsilon = 0.1, memory_size=2000, batch_size = 32)\n",
    "agent_cnn.load(name_weights='cnn_trainmodel.h5',name_model='cnn_trainmodel.json')\n",
    "\n",
    "agent_fc = DQN_FC(size, lr=1e-4, epsilon = 0.1, memory_size=2000, batch_size = 32)\n",
    "agent_cnn.load(name_weights='fc_trainmodel.h5',name_model='fc_trainmodel.json')\n",
    "print('Test of the CNN')\n",
    "test(agent_cnn,env,epochs_test,prefix='cnn_test')\n",
    "print('Test of the FC')\n",
    "test(agent_fc,env,epochs_test,prefix='fc_test')"
   ]
  },
  {
   "cell_type": "code",
   "execution_count": null,
   "metadata": {},
   "outputs": [],
   "source": [
    "HTML(display_videos('cnn_test10.mp4'))"
   ]
  },
  {
   "cell_type": "code",
   "execution_count": null,
   "metadata": {},
   "outputs": [],
   "source": [
    "HTML(display_videos('fc_test10.mp4'))"
   ]
  },
  {
   "cell_type": "markdown",
   "metadata": {},
   "source": []
  },
  {
   "cell_type": "markdown",
   "metadata": {},
   "source": [
    "***\n",
    "\n",
    "The algorithm tends to not explore the map which can be an issue. We propose two ideas in order to encourage exploration:\n",
    "1. Incorporating a decreasing $\\epsilon$-greedy exploration. You can use the method ```set_epsilon```\n",
    "2. Append via the environment a new state that describes if a cell has been visited or not\n",
    "\n",
    "***\n",
    "__Question 10__ Design a new ```train_explore``` function and environment class ```EnvironmentExploring``` to tackle the issue of exploration.\n",
    "\n"
   ]
  },
  {
   "cell_type": "code",
   "execution_count": null,
   "metadata": {},
   "outputs": [],
   "source": [
    "def train_explore(agent, env, epoch, prefix=''):\n",
    "    # Number of won games\n",
    "    score = 0\n",
    "    loss = 0\n",
    "\n",
    "    for e in range(1, epoch+1):\n",
    "        # Reset the environment\n",
    "        state = env.reset()\n",
    "        terminal = False\n",
    "\n",
    "        win = 0\n",
    "        lose = 0\n",
    "\n",
    "        while not terminal:\n",
    "            # The agent performs an action\n",
    "            action = agent.act(state, train=True)\n",
    "\n",
    "            # Apply an action to the environment, get the next state, the reward\n",
    "            # and if the games end\n",
    "            prev_state = state\n",
    "            state, reward, terminal = env.act(action, train=True)\n",
    "\n",
    "            # Update the counters\n",
    "            if reward > 0:\n",
    "                win = win + reward\n",
    "            if reward < 0:\n",
    "                lose = lose -reward\n",
    "\n",
    "            # Apply the reinforcement strategy\n",
    "            loss = agent.reinforce(prev_state, state,  action, reward, game_over)\n",
    "\n",
    "        # Save as a mp4\n",
    "        if e % 10 == 0:\n",
    "            env.draw(prefix+str(e))\n",
    "            agent.set_epsilon(1/(e+1))\n",
    "\n",
    "        # Update stats\n",
    "        score += win-lose\n",
    "\n",
    "        print(\"Epoch {:03d}/{:03d} | Loss {:.4f} | Win/lose count {}/{} ({})\"\n",
    "              .format(e, epoch, loss, win, lose, win-lose))\n",
    "        agent.save(name_weights=prefix+'model.h5',name_model=prefix+'model.json')\n",
    "        \n",
    "class EnvironmentExploring(object):\n",
    "    def __init__(self, grid_size=10, max_time=500, temperature=0.1):\n",
    "        self.grid_size = grid_size + 4\n",
    "        self.max_time = max_time\n",
    "        self.temperature = temperature\n",
    "\n",
    "        # Initializing the board\n",
    "        self.malus_position = np.zeros((grid_size,grid_size))\n",
    "        self.board = np.zeros((grid_size,grid_size))\n",
    "        self.position = np.zeros((grid_size,grid_size))\n",
    "\n",
    "        # coordinate of the cat\n",
    "        self.x = 0\n",
    "        self.y = 1\n",
    "\n",
    "        # self time\n",
    "        self.t = 0\n",
    "\n",
    "        self.scale=16\n",
    "\n",
    "        self.to_draw = np.zeros((max_time+2, grid_size*self.scale, grid_size*self.scale, 3))\n",
    "\n",
    "\n",
    "    def draw(self,e):\n",
    "        skvideo.io.vwrite(str(e) + '.mp4', self.to_draw)\n",
    "\n",
    "    def get_frame(self,t):\n",
    "        b = np.zeros((self.grid_size,self.grid_size,3))+128\n",
    "        b[self.board>0,0] = 256\n",
    "        b[self.board < 0, 2] = 256\n",
    "        b[self.x,self.y,:]=256\n",
    "        b[-2:,:,:]=0\n",
    "        b[:,-2:,:]=0\n",
    "        b[:2,:,:]=0\n",
    "        b[:,:2,:]=0\n",
    "        \n",
    "        b =  cv2.resize(b, None, fx=self.scale, fy=self.scale, interpolation=cv2.INTER_NEAREST)\n",
    "\n",
    "        self.to_draw[t,:,:,:]=b\n",
    "\n",
    "\n",
    "    def act(self, action, train=False):\n",
    "        \"\"\"This function returns the new state, reward and decides if the\n",
    "        game ends.\"\"\"\n",
    "\n",
    "        self.get_frame(int(self.t))\n",
    "\n",
    "        self.position = np.zeros((self.grid_size, self.grid_size))\n",
    "\n",
    "        self.position[:2,:]= -1\n",
    "        self.position[:, :2] = -1\n",
    "        self.position[-2:, :] = -1\n",
    "        self.position[:, -2:] = -1\n",
    "\n",
    "        self.position[self.x, self.y] = 1\n",
    "        if action == 0:\n",
    "            if self.x == self.grid_size - 3:\n",
    "                self.x = self.x\n",
    "            else:\n",
    "                self.x = self.x + 1\n",
    "        elif action == 1:\n",
    "            if self.x == 2:\n",
    "                self.x = self.x\n",
    "            else:\n",
    "                self.x = self.x - 1\n",
    "        elif action == 2:\n",
    "            if self.y == self.grid_size - 3:\n",
    "                self.y = self.y\n",
    "            else:\n",
    "                self.y = self.y + 1\n",
    "        elif action == 3:\n",
    "            if self.y == 2:\n",
    "                self.y = self.y\n",
    "            else:\n",
    "                self.y = self.y - 1\n",
    "        else:\n",
    "            RuntimeError('Error: action not recognized')\n",
    "\n",
    "        self.t = self.t + 1\n",
    "        reward = self.board[self.x, self.y]\n",
    "        if train:\n",
    "            reward += self.malus_position[self.x, self.y]\n",
    "        \n",
    "        self.board[self.x, self.y] = 0\n",
    "        self.malus_position[self.x, self.y] = -0.2\n",
    "        \n",
    "        game_over = self.t > self.max_time\n",
    "        state = np.concatenate((self.malus_position.reshape(self.grid_size, self.grid_size,1),\n",
    "                                self.board.reshape(self.grid_size, self.grid_size,1),\n",
    "                        self.position.reshape(self.grid_size, self.grid_size,1)),axis=2)\n",
    "        state = state[self.x-2:self.x+3,self.y-2:self.y+3,:]\n",
    "\n",
    "        return state, reward, game_over\n",
    "\n",
    "    def reset(self):\n",
    "        \"\"\"This function resets the game and returns the initial state\"\"\"\n",
    "\n",
    "        self.x = np.random.randint(3, self.grid_size-3, size=1)[0]\n",
    "        self.y = np.random.randint(3, self.grid_size-3, size=1)[0]\n",
    "\n",
    "        bonus = 0.5*np.random.binomial(1,self.temperature,size=self.grid_size**2)\n",
    "        bonus = bonus.reshape(self.grid_size,self.grid_size)\n",
    "\n",
    "        malus = -1.0*np.random.binomial(1,self.temperature,size=self.grid_size**2)\n",
    "        malus = malus.reshape(self.grid_size, self.grid_size)\n",
    "        malus[bonus>0] = 0\n",
    "\n",
    "        self.board = bonus + malus\n",
    "        self.to_draw = np.zeros((self.max_time+2, self.grid_size*self.scale, self.grid_size*self.scale, 3))\n",
    "\n",
    "        self.position = np.zeros((self.grid_size, self.grid_size))\n",
    "        self.position[:2,:]= -1\n",
    "        self.position[:, :2] = -1\n",
    "        self.position[-2:, :] = -1\n",
    "        self.position[:, -2:] = -1\n",
    "        \n",
    "        self.board[self.x,self.y] = 0\n",
    "        self.board[self.position < 0] = 0\n",
    "        \n",
    "        self.t = 0\n",
    "\n",
    "        state = np.concatenate((self.malus_position.reshape(self.grid_size, self.grid_size,1),\n",
    "                                self.board.reshape(self.grid_size, self.grid_size,1),\n",
    "                        self.position.reshape(self.grid_size, self.grid_size,1)),axis=2)\n",
    "\n",
    "        state = state[self.x - 2:self.x + 3, self.y - 2:self.y + 3, :]\n",
    "        return state\n",
    "    \n",
    "## use those samples of code:\n",
    "#In train explore:\n",
    "state, reward, game_over = env.act(action, train=True)\n",
    "\n",
    "## In Environment exploring:\n",
    "# You will have to change n_state to 3 because you will use one more layer!\n",
    "reward = 0\n",
    "if train:\n",
    "    reward = -self.malus_position[self.x, self.y]\n",
    "self.malus_position[self.x, self.y] = 0.1\n",
    "\n",
    "reward = reward + self.board[self.x, self.y]\n",
    "# 3 \"feature\" states instead of 2\n",
    "state = np.concatenate((self.malus_position.reshape(self.grid_size, self.grid_size,1),\n",
    "                                self.board.reshape(self.grid_size, self.grid_size,1),\n",
    "                        self.position.reshape(self.grid_size, self.grid_size,1)),axis=2)"
   ]
  },
  {
   "cell_type": "code",
   "execution_count": null,
   "metadata": {},
   "outputs": [],
   "source": [
    "# Training\n",
    "env = EnvironmentExploring(grid_size=size, max_time=T, temperature=0.3)\n",
    "agent = DQN_CNN(size, lr=.1, epsilon = 0.1, memory_size=2000, batch_size = 32,n_state=3)\n",
    "train_explore(agent, env, epochs_train, prefix='cnn_train_explore')\n",
    "HTML(display_videos('cnn_train_explore10.mp4'))"
   ]
  },
  {
   "cell_type": "code",
   "execution_count": null,
   "metadata": {},
   "outputs": [],
   "source": [
    "# Evaluation\n",
    "test(agent,env,epochs_test,prefix='cnn_test_explore')\n",
    "HTML(display_videos('cnn_test_explore10.mp4'))"
   ]
  },
  {
   "cell_type": "markdown",
   "metadata": {},
   "source": [
    "***\n",
    "***\n",
    "__BONUS question__ Use the expert DQN from the previous question to generate some winning games. Train a model that mimicks its behavior. Compare the performances."
   ]
  },
  {
   "cell_type": "markdown",
   "metadata": {},
   "source": []
  },
  {
   "cell_type": "markdown",
   "metadata": {},
   "source": [
    "***"
   ]
  }
 ],
 "metadata": {
  "kernelspec": {
   "display_name": "Python 3",
   "language": "python",
   "name": "python3"
  },
  "language_info": {
   "codemirror_mode": {
    "name": "ipython",
    "version": 3
   },
   "file_extension": ".py",
   "mimetype": "text/x-python",
   "name": "python",
   "nbconvert_exporter": "python",
   "pygments_lexer": "ipython3",
   "version": "3.6.8"
  }
 },
 "nbformat": 4,
 "nbformat_minor": 2
}

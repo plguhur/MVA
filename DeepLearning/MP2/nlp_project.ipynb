{
 "cells": [
  {
   "cell_type": "markdown",
   "metadata": {},
   "source": [
    "# Deep Learning for NLP - Project"
   ]
  },
  {
   "cell_type": "markdown",
   "metadata": {},
   "source": [
    "Done with Python 3.6"
   ]
  },
  {
   "cell_type": "code",
   "execution_count": 1,
   "metadata": {},
   "outputs": [],
   "source": [
    "%load_ext autoreload\n",
    "%autoreload 2\n",
    "import io\n",
    "import os\n",
    "import numpy as np\n",
    "import scipy\n",
    "from utils import *"
   ]
  },
  {
   "cell_type": "code",
   "execution_count": 2,
   "metadata": {},
   "outputs": [],
   "source": [
    "PATH_TO_DATA = \"data/\"\n",
    "SST_DIR = os.path.join(PATH_TO_DATA,'SST')"
   ]
  },
  {
   "cell_type": "markdown",
   "metadata": {},
   "source": [
    "# 1) Monolingual (English) word embeddings "
   ]
  },
  {
   "cell_type": "code",
   "execution_count": 3,
   "metadata": {},
   "outputs": [],
   "source": [
    "class Word2vec():\n",
    "    def __init__(self, fname, nmax=100000):\n",
    "        self.load_wordvec(fname, nmax)\n",
    "        self.word2id = dict.fromkeys(self.word2vec.keys())\n",
    "        self.id2word = {v: k for k, v in self.word2id.items()}\n",
    "        self.embeddings = np.array(self.word2vec.values())\n",
    "    \n",
    "    def load_wordvec(self, fname, nmax):\n",
    "        self.word2vec = {}\n",
    "        with io.open(fname, encoding='utf-8') as f:\n",
    "            next(f)\n",
    "            for i, line in enumerate(f):\n",
    "                word, vec = line.split(' ', 1)\n",
    "                self.word2vec[word] = np.fromstring(vec, sep=' ')\n",
    "                if i == (nmax - 1):\n",
    "                    break\n",
    "        self.words = np.asarray([*self.word2vec.keys()])\n",
    "        self.size = len(self.word2vec[self.words[0]])\n",
    "        print('Loaded %s pretrained word vectors' % (len(self.word2vec)))\n",
    "\n",
    "    def most_similar(self, w, K=5):\n",
    "        # K most similar words: self.score  -  np.argsort\n",
    "        list_score = [self.score(w, w_dico) for w_dico in self.word2vec]\n",
    "        if np.max(list_score) == 0:\n",
    "            return []\n",
    "        \n",
    "        index_best_words = np.argsort(list_score)[::-1][:K]\n",
    "        return self.words[index_best_words].tolist()\n",
    "\n",
    "    def score(self, w1, w2):\n",
    "        # cosine similarity: np.dot  -  np.linalg.norm\n",
    "        if not w1 in self.word2vec or not w2 in self.word2vec:\n",
    "            return 0\n",
    "        emb1 = self.word2vec[w1]\n",
    "        emb2 = self.word2vec[w2]\n",
    "        return emb1.dot(emb2.T)/(np.linalg.norm(emb1)*np.linalg.norm(emb2))\n"
   ]
  },
  {
   "cell_type": "code",
   "execution_count": 36,
   "metadata": {},
   "outputs": [
    {
     "name": "stdout",
     "output_type": "stream",
     "text": [
      "Loaded 25000 pretrained word vectors\n",
      "\n",
      "\n",
      "A few scores...\n",
      "cat dog 0.671683666279249\n",
      "dog pet 0.6842064029669219\n",
      "dogs cats 0.7074389328052404\n",
      "paris france 0\n",
      "germany berlin 0\n",
      "\n",
      "\n",
      "The most similar words...\n",
      "cat: cat, cats, kitty, kitten, Cat\n",
      "dog: dog, dogs, puppy, Dog, canine\n",
      "dogs: dogs, dog, Dogs, puppies, cats\n",
      "paris: \n",
      "germany: \n"
     ]
    }
   ],
   "source": [
    "w2v = Word2vec(os.path.join(PATH_TO_DATA, 'crawl-300d-200k.vec'), nmax=25000)\n",
    "\n",
    "# You will be evaluated on the output of the following:\n",
    "print(\"\\n\\nA few scores...\")\n",
    "for w1, w2 in zip(('cat', 'dog', 'dogs', 'paris', 'germany'), ('dog', 'pet', 'cats', 'france', 'berlin')):\n",
    "    print(w1, w2, w2v.score(w1, w2))\n",
    "\n",
    "print(\"\\n\\nThe most similar words...\")\n",
    "for w1 in ['cat', 'dog', 'dogs', 'paris', 'germany']:\n",
    "    best_matches = w2v.most_similar(w1)\n",
    "    print(f\"{w1}: {', '.join(best_matches)}\")"
   ]
  },
  {
   "cell_type": "code",
   "execution_count": 4,
   "metadata": {},
   "outputs": [],
   "source": [
    "class BoV():\n",
    "    def __init__(self, w2v):\n",
    "        self.w2v = w2v\n",
    "    \n",
    "    def encode(self, sentences, idf=False):\n",
    "        # takes a list of sentences, outputs a numpy array of sentence embeddings\n",
    "        sentemb = []\n",
    "        for sent in sentences:\n",
    "            if idf is False:\n",
    "                # mean of word vectors\n",
    "                embeddings = [self.w2v.word2vec[w] for w in sent if w in w2v.word2vec]\n",
    "                if len(embeddings) == 0: #if any word in the sentence is in our lookup table\n",
    "                    sentemb.append(np.zeros(self.w2v.size))\n",
    "                else:\n",
    "                    sentemb.append(np.mean(embeddings, axis=0))\n",
    "            else:\n",
    "                # idf-weighted mean of word vectors\n",
    "                embeddings = [idf[w]*self.w2v.word2vec[w] for w in sent if w in w2v.word2vec and w in idf]\n",
    "                if len(embeddings) == 0: #if any word in the sentence is in our lookup table\n",
    "                    sentemb.append(np.zeros(self.w2v.size))\n",
    "                else:\n",
    "                    sentemb.append(np.mean(embeddings, axis=0))\n",
    "        return np.vstack(sentemb)\n",
    "\n",
    "    def most_similar(self, s, sentences, idf=False, K=5):\n",
    "        # get most similar sentences and **print** them\n",
    "        list_score = [self.score(s, sentence, idf) for sentence in sentences]\n",
    "        index_best_sent = (np.argsort(list_score)[::-1][:K])\n",
    "        if max(list_score) == 0:\n",
    "            print(f\"Oops... The words are unkwnown in the sentence {s}!\")\n",
    "            return []\n",
    "        \n",
    "        all_sent = []\n",
    "        print(f'Best {K} matches of \"{s}\"')\n",
    "        for i, idx in enumerate(index_best_sent):\n",
    "            print(f'{i}: {sentences[idx]}')\n",
    "            all_sent.append(sentences[idx])\n",
    "        return all_sent\n",
    "    \n",
    "\n",
    "    def score(self, s1, s2, idf=False):\n",
    "        # cosine similarity: use   np.dot  and  np.linalg.norm\n",
    "        emb1, emb2 = self.encode([s1, s2], idf)\n",
    "        if np.linalg.norm(emb1) == 0 or np.linalg.norm(emb2) == 0:\n",
    "             return 0\n",
    "        return emb1.dot(emb2.T)/(np.linalg.norm(emb1)*np.linalg.norm(emb2))\n",
    "        \n",
    "                                           \n",
    "    def build_idf(self, sentences):\n",
    "        # build the idf dictionary: associate each word to its idf value\n",
    "        idf = {}\n",
    "        for sent in sentences:\n",
    "            for w in set(sent):\n",
    "                idf[w] = idf.get(w, 0) + 1        \n",
    "        for w in idf:\n",
    "            idf[w] = max(1, np.log10(len(sentences) / (idf[w])))\n",
    "        return idf"
   ]
  },
  {
   "cell_type": "code",
   "execution_count": 64,
   "metadata": {
    "scrolled": false
   },
   "outputs": [
    {
     "name": "stdout",
     "output_type": "stream",
     "text": [
      "Loaded 25000 pretrained word vectors\n",
      "Best 5 matches of \"1 smiling african american boy . \n",
      "\"\n",
      "0: 1 smiling african american boy . \n",
      "\n",
      "1: an african american male is singing into a microphone . \n",
      "\n",
      "2: an african american man is jumping in the air , while a boy claps . \n",
      "\n",
      "3: a man in brown is helping a man in red climb a rock . \n",
      "\n",
      "4: a smiling woman carrying her baby in a sling . \n",
      "\n",
      "Score without IDF is 0.9564367613713493\n",
      "Best 5 matches of \"1 smiling african american boy . \n",
      "\"\n",
      "0: 1 smiling african american boy . \n",
      "\n",
      "1: an african american man is jumping in the air , while a boy claps . \n",
      "\n",
      "2: an african american male is singing into a microphone . \n",
      "\n",
      "3: a man rock climbing in a forest . \n",
      "\n",
      "4: a man in brown is helping a man in red climb a rock . \n",
      "\n",
      "Score with IDF is 0.9562052331058694\n"
     ]
    }
   ],
   "source": [
    "w2v = Word2vec(os.path.join(PATH_TO_DATA, 'crawl-300d-200k.vec'), nmax=25000)\n",
    "s2v = BoV(w2v)\n",
    "\n",
    "# Load sentences\n",
    "\n",
    "with open(os.path.join(PATH_TO_DATA, 'sentences.txt')) as f:\n",
    "    sentences = f.readlines()\n",
    "\n",
    "# # You will be evaluated on the output of the following:\n",
    "s2v.most_similar('' if not sentences else sentences[10], sentences)  # BoV-mean\n",
    "score = s2v.score('' if not sentences else sentences[7], '' if not sentences else sentences[13])\n",
    "print(f\"Score without IDF is {score}\")\n",
    "\n",
    "# # Build idf scores for each word\n",
    "idf = s2v.build_idf(sentences) \n",
    "s2v.most_similar('' if not sentences else sentences[10], sentences, idf)  # BoV-idf\n",
    "score = s2v.score('' if not sentences else sentences[7], '' if not sentences else sentences[13], idf)\n",
    "print(f\"Score with IDF is {score}\")"
   ]
  },
  {
   "cell_type": "markdown",
   "metadata": {},
   "source": [
    "# 2) Multilingual (English-French) word embeddings"
   ]
  },
  {
   "cell_type": "markdown",
   "metadata": {},
   "source": [
    "Let's consider a bilingual dictionary of size V_a (e.g French-English).\n",
    "\n",
    "Let's define **X** and **Y** the **French** and **English** matrices.\n",
    "\n",
    "They contain the embeddings associated to the words in the bilingual dictionary.\n",
    "\n",
    "We want to find a **mapping W** that will project the source word space (e.g French) to the target word space (e.g English).\n",
    "\n",
    "Procrustes : **W\\* = argmin || W.X - Y ||  s.t  W^T.W = Id**\n",
    "has a closed form solution:\n",
    "**W = U.V^T  where  U.Sig.V^T = SVD(Y.X^T)**\n",
    "\n",
    "In what follows, you are asked to: "
   ]
  },
  {
   "cell_type": "code",
   "execution_count": 5,
   "metadata": {
    "scrolled": true
   },
   "outputs": [
    {
     "name": "stdout",
     "output_type": "stream",
     "text": [
      "Loaded 50000 pretrained word vectors\n",
      "Loaded 50000 pretrained word vectors\n"
     ]
    }
   ],
   "source": [
    "# 1 - Download and load 50k first vectors of\n",
    "#     https://s3-us-west-1.amazonaws.com/fasttext-vectors/wiki.en.vec\n",
    "#     https://s3-us-west-1.amazonaws.com/fasttext-vectors/wiki.fr.vec\n",
    "\n",
    "# TYPE CODE HERE\n",
    "try:\n",
    "    from urllib import urlretrieve\n",
    "except ImportError:\n",
    "    from urllib.request import urlretrieve\n",
    "\n",
    "files = [\"wiki.en.vec\", \"wiki.fr.vec\"]\n",
    "urls = [\"https://s3-us-west-1.amazonaws.com/fasttext-vectors/wiki.en.vec\",\n",
    "       \"https://s3-us-west-1.amazonaws.com/fasttext-vectors/wiki.fr.vec\"]\n",
    "\n",
    "for f, u in zip(files, urls):\n",
    "    if not os.path.isfile(os.path.join(PATH_TO_DATA, f)):\n",
    "        print(\"Downloading\", f)\n",
    "        urlretrieve(u, os.path.join(PATH_TO_DATA, f))\n",
    "\n",
    "w2v_eng = Word2vec(os.path.join(PATH_TO_DATA, 'wiki.en.vec'), nmax=50000)\n",
    "w2v_fr = Word2vec(os.path.join(PATH_TO_DATA, 'wiki.fr.vec'), nmax=50000)"
   ]
  },
  {
   "cell_type": "code",
   "execution_count": 7,
   "metadata": {},
   "outputs": [],
   "source": [
    "# 2 - Get words that appear in both vocabs (= identical character strings)\n",
    "#     Use it to create the matrix X and Y (of aligned embeddings for these words)\n",
    "\n",
    "common = [w for w in w2v_eng.word2vec if w in w2v_fr.word2vec]\n",
    "X = np.vstack([w2v_eng.word2vec[w] for w in common])\n",
    "Y = np.vstack([w2v_fr.word2vec[w] for w in common])"
   ]
  },
  {
   "cell_type": "code",
   "execution_count": 8,
   "metadata": {},
   "outputs": [],
   "source": [
    "# 3 - Solve the Procrustes using the scipy package and: scipy.linalg.svd() and get the optimal W\n",
    "#     Now W*French_vector is in the same space as English_vector\n",
    "\n",
    "from scipy import linalg as LA\n",
    "\n",
    "# TYPE CODE HERE\n",
    "X = X[:100]\n",
    "Y = Y[:100]\n",
    "U, S, V = LA.svd(Y.dot(X.T))\n",
    "W = U.dot(V)"
   ]
  },
  {
   "cell_type": "code",
   "execution_count": 15,
   "metadata": {},
   "outputs": [
    {
     "data": {
      "text/html": [
       "<table>\n",
       "<thead>\n",
       "<tr><th>chien  </th><th>ville  </th><th>film           </th><th>septembre  </th><th>roi     </th></tr>\n",
       "</thead>\n",
       "<tbody>\n",
       "<tr><td>dog    </td><td>city   </td><td>film           </td><td>june       </td><td>king    </td></tr>\n",
       "<tr><td>poodle </td><td>town   </td><td>movie          </td><td>april      </td><td>vassal  </td></tr>\n",
       "<tr><td>terrier</td><td>cities </td><td>films          </td><td>september  </td><td>kingship</td></tr>\n",
       "<tr><td>dogs   </td><td>suburb </td><td>screenplay     </td><td>october    </td><td>throne  </td></tr>\n",
       "<tr><td>spaniel</td><td>towns  </td><td>writer/director</td><td>november   </td><td>usurper </td></tr>\n",
       "</tbody>\n",
       "</table>"
      ],
      "text/plain": [
       "<IPython.core.display.HTML object>"
      ]
     },
     "metadata": {},
     "output_type": "display_data"
    },
    {
     "data": {
      "text/html": [
       "<table>\n",
       "<thead>\n",
       "<tr><th>dog    </th><th>women     </th><th>television  </th><th>car        </th><th>king  </th></tr>\n",
       "</thead>\n",
       "<tbody>\n",
       "<tr><td>dog    </td><td>femmes    </td><td>télévision  </td><td>voiture    </td><td>roi   </td></tr>\n",
       "<tr><td>chien  </td><td>women     </td><td>television  </td><td>voitures   </td><td>king  </td></tr>\n",
       "<tr><td>hound  </td><td>féminines </td><td>télévisuelle</td><td>automobile </td><td>rois  </td></tr>\n",
       "<tr><td>chiens </td><td>féministes</td><td>télévisés   </td><td>porsche    </td><td>reine </td></tr>\n",
       "<tr><td>chienne</td><td>féminine  </td><td>télévisées  </td><td>automobiles</td><td>trône </td></tr>\n",
       "</tbody>\n",
       "</table>"
      ],
      "text/plain": [
       "<IPython.core.display.HTML object>"
      ]
     },
     "metadata": {},
     "output_type": "display_data"
    }
   ],
   "source": [
    "# 4 - After alignment with W, give examples of English nearest neighbors of some French words (and vice versa)\n",
    "#     You will be evaluated on that part and the code above\n",
    "\n",
    "from scipy.linalg import svd\n",
    "from IPython.display import HTML, display\n",
    "from tabulate import tabulate\n",
    "\n",
    "def compute_mapping(w2v_1, w2v_2, nmax):\n",
    "    common = [w for w in w2v_1.word2vec if w in w2v_2.word2vec]\n",
    "    common = common[:nmax]\n",
    "    X = np.vstack([w2v_1.word2vec[w] for w in common]).T\n",
    "    Y = np.vstack([w2v_2.word2vec[w] for w in common]).T\n",
    "    U, s, Vh = svd(Y.dot(X.T))\n",
    "    return U.dot(Vh)\n",
    "    \n",
    "    \n",
    "def most_similar(word, native, foreign, W, K=5):\n",
    "    emb_native = W.dot(native.word2vec[word]) if word in native.word2vec else 0\n",
    "    list_score = [score(emb_native, emb_foreign) \n",
    "                      for _, emb_foreign in foreign.word2vec.items()]\n",
    "    index_best_words = np.argsort(list_score)[::-1][:K]\n",
    "    return np.asarray([*foreign.word2vec.keys()])[index_best_words]\n",
    "\n",
    "def score(emb1, emb2):\n",
    "    if np.linalg.norm(emb1) == 0 or np.linalg.norm(emb2) == 0:\n",
    "        return 0\n",
    "    else:\n",
    "        return emb1.dot(emb2.T)/(np.linalg.norm(emb1)*np.linalg.norm(emb2))\n",
    "    \n",
    "W1 = compute_mapping(w2v_fr, w2v_eng, 25000) \n",
    "W2 = compute_mapping(w2v_eng, w2v_fr, 25000) \n",
    "french_words = ['chien', 'ville', 'film', 'septembre', 'roi']\n",
    "english_words = ['dog', 'women', 'television', 'car', 'king']\n",
    "\n",
    "table_fr = [[w, *most_similar(w, w2v_fr, w2v_eng, W1)] for w in french_words]\n",
    "table_fr = np.asarray(table_fr).T\n",
    "table_eng = [[w, *most_similar(w, w2v_eng, w2v_fr, W2)] for w in english_words]\n",
    "table_eng = np.asarray(table_eng).T\n",
    "\n",
    "display(HTML(tabulate(table_fr[1:],table_fr[0], tablefmt=\"html\")))\n",
    "display(HTML(tabulate(table_eng[1:],table_eng[0], tablefmt=\"html\")))"
   ]
  },
  {
   "cell_type": "markdown",
   "metadata": {},
   "source": [
    "If you want to dive deeper on this subject: https://github.com/facebookresearch/MUSE"
   ]
  },
  {
   "cell_type": "markdown",
   "metadata": {},
   "source": [
    "# 3) Sentence classification with BoV and scikit-learn"
   ]
  },
  {
   "cell_type": "code",
   "execution_count": 5,
   "metadata": {},
   "outputs": [],
   "source": [
    "# 1 - Load train/dev/test of Stanford Sentiment TreeBank (SST)\n",
    "#     (https://nlp.stanford.edu/~socherr/EMNLP2013_RNTN.pdf)\n",
    "\n",
    "x_train,y_train = decode_with_labels(os.path.join(SST_DIR, 'stsa.fine.train'))\n",
    "x_dev,y_dev = decode_with_labels(os.path.join(SST_DIR,'stsa.fine.dev'))\n",
    "x_test = decode_without_labels(os.path.join(SST_DIR, 'stsa.fine.test.X'))"
   ]
  },
  {
   "cell_type": "code",
   "execution_count": 6,
   "metadata": {},
   "outputs": [
    {
     "name": "stdout",
     "output_type": "stream",
     "text": [
      "Loaded 1000000 pretrained word vectors\n"
     ]
    }
   ],
   "source": [
    "# 2 - Encode sentences with the BoV model above\n",
    "w2v = Word2vec(os.path.join(PATH_TO_DATA, 'wiki.en.vec'), nmax=1000000)\n",
    "s2v = BoV(w2v)\n",
    "\n",
    "idf = s2v.build_idf(x_train)\n",
    "\n",
    "x_train_idf = s2v.encode(x_train,idf)\n",
    "x_dev_idf = s2v.encode(x_dev,idf)\n",
    "\n",
    "x_train = s2v.encode(x_train)\n",
    "x_dev = s2v.encode(x_dev)\n",
    "x_test = s2v.encode(x_test)"
   ]
  },
  {
   "cell_type": "code",
   "execution_count": 56,
   "metadata": {},
   "outputs": [
    {
     "name": "stdout",
     "output_type": "stream",
     "text": [
      "Without IDF, the best score is 0.41 with L2 regularization 0.30000000000000004\n",
      "With IDF, the best score is 0.41 with L2 regularization 0.1\n"
     ]
    }
   ],
   "source": [
    "# 3 - Learn Logistic Regression on top of sentence embeddings using scikit-learn\n",
    "#     (consider tuning the L2 regularization on the dev set)\n",
    "\n",
    "from sklearn.linear_model import LogisticRegression\n",
    "from sklearn.metrics import accuracy_score\n",
    "\n",
    "regularizers = np.arange(0.1, 1.0, 0.1)\n",
    "lr = [LogisticRegression(C=c, multi_class='auto', max_iter=1000, solver='lbfgs', n_jobs=4, tol=1e-8) for c in regularizers]\n",
    "\n",
    "[model.fit(x_train, y_train) for model in lr]\n",
    "scores = [accuracy_score(y_dev, model.predict(x_dev)) for model in lr]\n",
    "print(f'Without IDF, the best score is {np.max(scores):.2f} with L2 regularization {regularizers[np.argmax(scores)]}')\n",
    "\n",
    "[model.fit(x_train_idf, y_train) for model in lr]\n",
    "scores = [accuracy_score(y_dev, model.predict(x_dev_idf)) for model in lr]\n",
    "print(f'With IDF, the best score is {np.max(scores):.2f} with L2 regularization {regularizers[np.argmax(scores)]}')"
   ]
  },
  {
   "cell_type": "code",
   "execution_count": 59,
   "metadata": {},
   "outputs": [],
   "source": [
    "# 4 - Produce 2210 predictions for the test set (in the same order). One line = one prediction (=0,1,2,3,4).\n",
    "#     Attach the output file \"logreg_bov_y_test_sst.txt\" to your deliverable.\n",
    "#     You will be evaluated on the results of the test set.\n",
    "\n",
    "best_c = 0.3\n",
    "lr = LogisticRegression(C=best_c, multi_class='auto', max_iter=1000, solver='lbfgs', n_jobs=4, tol=1e-8)\n",
    "lr.fit(x_train, y_train)\n",
    "y_test = lr.predict(x_test)\n",
    "lines = '\\n'.join([str(p) for p in y_test])\n",
    "with open('logreg_bov_y_test_sst.txt','w+') as f:\n",
    "    f.writelines(lines)"
   ]
  },
  {
   "cell_type": "code",
   "execution_count": 21,
   "metadata": {},
   "outputs": [
    {
     "data": {
      "text/html": [
       "<table>\n",
       "<thead>\n",
       "<tr><th style=\"text-align: right;\">  Nearest Neighbors</th><th style=\"text-align: right;\">  Linear SVM</th><th style=\"text-align: right;\">  RBF SVM</th><th style=\"text-align: right;\">  Decision Tree</th><th style=\"text-align: right;\">  Random Forest</th><th style=\"text-align: right;\">  Neural Net</th><th style=\"text-align: right;\">  AdaBoost</th><th style=\"text-align: right;\">  Naive Bayes</th><th style=\"text-align: right;\">     QDA</th></tr>\n",
       "</thead>\n",
       "<tbody>\n",
       "<tr><td style=\"text-align: right;\">           0.322434</td><td style=\"text-align: right;\">    0.360581</td><td style=\"text-align: right;\"> 0.428701</td><td style=\"text-align: right;\">       0.326067</td><td style=\"text-align: right;\">       0.348774</td><td style=\"text-align: right;\">    0.400545</td><td style=\"text-align: right;\">  0.362398</td><td style=\"text-align: right;\">     0.378747</td><td style=\"text-align: right;\">0.352407</td></tr>\n",
       "</tbody>\n",
       "</table>"
      ],
      "text/plain": [
       "<IPython.core.display.HTML object>"
      ]
     },
     "metadata": {},
     "output_type": "display_data"
    }
   ],
   "source": [
    "# BONUS!\n",
    "# 5 - Try to improve performance with another classifier\n",
    "#     Attach the output file \"XXX_bov_y_test_sst.txt\" to your deliverable (where XXX = the name of the classifier)\n",
    "\n",
    "from sklearn.metrics import accuracy_score\n",
    "from sklearn.neural_network import MLPClassifier\n",
    "from sklearn.neighbors import KNeighborsClassifier\n",
    "from sklearn.svm import SVC\n",
    "from sklearn.gaussian_process import GaussianProcessClassifier\n",
    "from sklearn.gaussian_process.kernels import RBF\n",
    "from sklearn.tree import DecisionTreeClassifier\n",
    "from sklearn.ensemble import RandomForestClassifier, AdaBoostClassifier\n",
    "from sklearn.naive_bayes import GaussianNB\n",
    "from sklearn.discriminant_analysis import QuadraticDiscriminantAnalysis\n",
    "from IPython.display import HTML, display\n",
    "from tabulate import tabulate\n",
    "\n",
    "names = [\"Nearest Neighbors\", \"Linear SVM\", \"RBF SVM\", \n",
    "         \"Decision Tree\", \"Random Forest\", \"Neural Net\", \"AdaBoost\",\n",
    "         \"Naive Bayes\", \"QDA\"]\n",
    "\n",
    "classifiers = [\n",
    "    KNeighborsClassifier(3, n_jobs=4),\n",
    "    SVC(kernel=\"linear\", C=0.025),\n",
    "    SVC(gamma=1, C=1),\n",
    "    DecisionTreeClassifier(max_depth=5),\n",
    "    RandomForestClassifier(max_depth=10, n_estimators=100, max_features=1, n_jobs=4),\n",
    "    MLPClassifier(alpha=1),\n",
    "    AdaBoostClassifier(),\n",
    "    GaussianNB(),\n",
    "    QuadraticDiscriminantAnalysis()]\n",
    "\n",
    "results = {}\n",
    "\n",
    "for name, clf in zip(names, classifiers):\n",
    "    clf.fit(x_train,y_train)\n",
    "    prediction = clf.predict(x_dev)\n",
    "    results[name] = accuracy_score(y_dev, prediction)\n",
    "    \n",
    "display(HTML(tabulate([[*results.values()]], [*results.keys()], tablefmt=\"html\")))"
   ]
  },
  {
   "cell_type": "code",
   "execution_count": 24,
   "metadata": {},
   "outputs": [],
   "source": [
    "clf = SVC(gamma=1, C=1)\n",
    "clf.fit(x_train, y_train)\n",
    "y_test = clf.predict(x_test)\n",
    "lines = '\\n'.join([str(p) for p in y_test])\n",
    "with open('rbf_svm_bov_y_test_sst.txt','w+') as f:\n",
    "    f.writelines(lines)"
   ]
  },
  {
   "cell_type": "markdown",
   "metadata": {},
   "source": [
    "# 4) Sentence classification with LSTMs in Keras"
   ]
  },
  {
   "cell_type": "markdown",
   "metadata": {},
   "source": [
    "## 4.1 - Preprocessing"
   ]
  },
  {
   "cell_type": "code",
   "execution_count": 3,
   "metadata": {},
   "outputs": [
    {
     "name": "stderr",
     "output_type": "stream",
     "text": [
      "Using TensorFlow backend.\n"
     ]
    }
   ],
   "source": [
    "import keras\n",
    "from keras.preprocessing.text import one_hot\n",
    "from keras.utils import to_categorical\n",
    "from keras.preprocessing.sequence import pad_sequences"
   ]
  },
  {
   "cell_type": "code",
   "execution_count": 4,
   "metadata": {},
   "outputs": [],
   "source": [
    "# 1 - Load train/dev/test sets of SST\n",
    "x_train, y_train = decode_with_labels(os.path.join(SST_DIR, 'stsa.fine.train'))\n",
    "x_dev, y_dev = decode_with_labels(os.path.join(SST_DIR,'stsa.fine.dev'))\n",
    "x_test = decode_without_labels(os.path.join(SST_DIR, 'stsa.fine.test.X'))"
   ]
  },
  {
   "cell_type": "code",
   "execution_count": 5,
   "metadata": {},
   "outputs": [
    {
     "name": "stdout",
     "output_type": "stream",
     "text": [
      "Y: (8544, 5)\n"
     ]
    }
   ],
   "source": [
    "# 2 - Transform text to integers using keras.preprocessing.text.one_hot function\n",
    "\n",
    "list_words = set([w for sentences in x_train + x_dev + x_test  for w in sentences])\n",
    "n_words = len(list_words)\n",
    "\n",
    "X_train = [one_hot(' '.join(x), n_words) for x in x_train]\n",
    "X_dev = [one_hot(' '.join(x), n_words) for x in x_dev]\n",
    "X_test = [one_hot(' '.join(x), n_words) for x in x_test]\n",
    "\n",
    "Y_train = to_categorical(y_train)\n",
    "Y_dev = to_categorical(y_dev)\n",
    "print(\"Y:\", Y_train.shape)"
   ]
  },
  {
   "cell_type": "markdown",
   "metadata": {},
   "source": [
    "**Padding input data**\n",
    "\n",
    "Models in Keras (and elsewhere) take batches of sentences of the same length as input. It is because Deep Learning framework have been designed to handle well Tensors, which are particularly suited for fast computation on the GPU.\n",
    "\n",
    "Since sentences have different sizes, we \"pad\" them. That is, we add dummy \"padding\" tokens so that they all have the same length.\n",
    "\n",
    "The input to a Keras model thus has this size : (batchsize, maxseqlen) where maxseqlen is the maximum length of a sentence in the batch."
   ]
  },
  {
   "cell_type": "code",
   "execution_count": 6,
   "metadata": {},
   "outputs": [
    {
     "name": "stdout",
     "output_type": "stream",
     "text": [
      "X: (8544, 56)\n"
     ]
    }
   ],
   "source": [
    "# 3 - Pad your sequences using keras.preprocessing.sequence.pad_sequences\n",
    "#     https://keras.io/preprocessing/sequence/\n",
    "max_len = np.max([len(line) for line in x_train + x_dev + x_test])\n",
    "\n",
    "X_train = pad_sequences(X_train, maxlen=max_len)\n",
    "X_dev = pad_sequences(X_dev, maxlen=max_len)\n",
    "X_test = pad_sequences(X_test, maxlen=max_len)\n",
    "print(\"X:\", X_train.shape)"
   ]
  },
  {
   "cell_type": "markdown",
   "metadata": {},
   "source": [
    "## 4.2 - Design and train your model"
   ]
  },
  {
   "cell_type": "code",
   "execution_count": 28,
   "metadata": {},
   "outputs": [],
   "source": [
    "# 4 - Design your encoder + classifier using keras.layers\n",
    "#     In Keras, Torch and other deep learning framework, we create a \"container\" which is the Sequential() module.\n",
    "#     Then we add components to this contained : the lookuptable, the LSTM, the classifier etc.\n",
    "#     All of these components are contained in the Sequential() and are trained together.\n",
    "\n",
    "from keras.models import Sequential\n",
    "from keras.layers import Embedding, LSTM, Dense, Activation, SpatialDropout1D\n",
    "\n",
    "embed_dim  = 32  # word embedding dimension\n",
    "nhid = 32  # number of hidden units in the LSTM\n",
    "vocab_size = n_words  # size of the vocabulary\n",
    "n_classes  = 5\n",
    "\n",
    "model = Sequential()\n",
    "model.add(Embedding(vocab_size, embed_dim))\n",
    "model.add(SpatialDropout1D(0.4))\n",
    "model.add(LSTM(nhid, dropout=0.2, recurrent_dropout=0.2))\n",
    "model.add(Dense(n_classes, activation='sigmoid'))\n"
   ]
  },
  {
   "cell_type": "code",
   "execution_count": 29,
   "metadata": {},
   "outputs": [
    {
     "name": "stdout",
     "output_type": "stream",
     "text": [
      "_________________________________________________________________\n",
      "Layer (type)                 Output Shape              Param #   \n",
      "=================================================================\n",
      "embedding_9 (Embedding)      (None, None, 32)          638112    \n",
      "_________________________________________________________________\n",
      "spatial_dropout1d_6 (Spatial (None, None, 32)          0         \n",
      "_________________________________________________________________\n",
      "lstm_11 (LSTM)               (None, 32)                8320      \n",
      "_________________________________________________________________\n",
      "dense_7 (Dense)              (None, 5)                 165       \n",
      "=================================================================\n",
      "Total params: 646,597\n",
      "Trainable params: 646,597\n",
      "Non-trainable params: 0\n",
      "_________________________________________________________________\n",
      "None\n"
     ]
    }
   ],
   "source": [
    "# 5 - Define your loss/optimizer/metrics\n",
    "\n",
    "loss_classif = 'categorical_crossentropy' # find the right loss for multi-class classification\n",
    "optimizer = 'adam' # find the right optimizer\n",
    "metrics_classif = ['accuracy']\n",
    "\n",
    "# Observe how easy (but blackboxed) this is in Keras\n",
    "model.compile(loss=loss_classif,\n",
    "              optimizer=optimizer,\n",
    "              metrics=metrics_classif)\n",
    "print(model.summary())"
   ]
  },
  {
   "cell_type": "code",
   "execution_count": 30,
   "metadata": {},
   "outputs": [
    {
     "name": "stdout",
     "output_type": "stream",
     "text": [
      "Train on 8544 samples, validate on 1101 samples\n",
      "Epoch 1/6\n",
      "8544/8544 [==============================] - 9s 1ms/step - loss: 1.5796 - acc: 0.2633 - val_loss: 1.5705 - val_acc: 0.2534\n",
      "Epoch 2/6\n",
      "8544/8544 [==============================] - 8s 960us/step - loss: 1.5571 - acc: 0.3002 - val_loss: 1.5385 - val_acc: 0.3252\n",
      "Epoch 3/6\n",
      "8544/8544 [==============================] - 8s 962us/step - loss: 1.4302 - acc: 0.3793 - val_loss: 1.4094 - val_acc: 0.3660\n",
      "Epoch 4/6\n",
      "8544/8544 [==============================] - 8s 955us/step - loss: 1.2526 - acc: 0.4347 - val_loss: 1.4140 - val_acc: 0.3806\n",
      "Epoch 5/6\n",
      "8544/8544 [==============================] - 8s 947us/step - loss: 1.1481 - acc: 0.4662 - val_loss: 1.4291 - val_acc: 0.3860\n",
      "Epoch 6/6\n",
      "8544/8544 [==============================] - 8s 953us/step - loss: 1.0515 - acc: 0.4993 - val_loss: 1.5121 - val_acc: 0.3678\n"
     ]
    }
   ],
   "source": [
    "# 6 - Train your model and find the best hyperparameters for your dev set\n",
    "#     you will be evaluated on the quality of your predictions on the test set\n",
    "from keras_tqdm import TQDMCallback, TQDMNotebookCallback\n",
    "\n",
    "bs = 64\n",
    "n_epochs = 6\n",
    "history = model.fit(X_train, Y_train, batch_size=bs, \n",
    "                        epochs=n_epochs, \n",
    "                        validation_data=(X_dev, Y_dev))\n",
    "#                         callbacks=[TQDMNotebookCallback()],\n",
    "#                         verbose=0)"
   ]
  },
  {
   "cell_type": "code",
   "execution_count": 27,
   "metadata": {},
   "outputs": [
    {
     "data": {
      "text/plain": [
       "array([[0., 0., 0., 0., 1.],\n",
       "       [0., 1., 0., 0., 0.],\n",
       "       [0., 1., 0., 0., 0.],\n",
       "       ...,\n",
       "       [0., 1., 0., 0., 0.],\n",
       "       [0., 0., 1., 0., 0.],\n",
       "       [0., 0., 0., 0., 1.]], dtype=float32)"
      ]
     },
     "execution_count": 27,
     "metadata": {},
     "output_type": "execute_result"
    }
   ],
   "source": [
    "Y_train"
   ]
  },
  {
   "cell_type": "code",
   "execution_count": 15,
   "metadata": {},
   "outputs": [
    {
     "data": {
      "image/png": "[encoded data removed]",
      "text/plain": [
       "<Figure size 1440x720 with 2 Axes>"
      ]
     },
     "metadata": {
      "needs_background": "light"
     },
     "output_type": "display_data"
    }
   ],
   "source": [
    "plot_history(history)"
   ]
  },
  {
   "cell_type": "code",
   "execution_count": null,
   "metadata": {
    "collapsed": true
   },
   "outputs": [],
   "source": [
    "# 7 - Generate your predictions on the test set using model.predict(x_test)\n",
    "#     https://keras.io/models/model/\n",
    "#     Log your predictions in a file (one line = one integer: 0,1,2,3,4)\n",
    "#     Attach the output file \"logreg_lstm_y_test_sst.txt\" to your deliverable.\n",
    "\n",
    "model = keras.models.load_model('best_lstm.hdf5')\n",
    "Y_test = model.predict(X_test)\n",
    "lines = '\\n'.join([np.argmax(pred) for pred in Y_test])\n",
    "with open('logreg_lstm_y_test_sst.txt','w') as f:\n",
    "    f.writelines(lines)"
   ]
  },
  {
   "cell_type": "markdown",
   "metadata": {},
   "source": [
    "## 4.3 -- innovate !"
   ]
  },
  {
   "cell_type": "code",
   "execution_count": null,
   "metadata": {
    "collapsed": true
   },
   "outputs": [],
   "source": [
    "# 8 - Open question: find a model that is better on your dev set\n",
    "#     (e.g: use a 1D ConvNet, use a better classifier, pretrain your lookup tables ..)\n",
    "#     you will get point if the results on the test set are better: be careful of not overfitting your dev set too much..\n",
    "#     Attach the output file \"XXX_XXX_y_test_sst.txt\" to your deliverable.\n",
    "\n",
    "# TYPE CODE HERE\n"
   ]
  }
 ],
 "metadata": {
  "kernelspec": {
   "display_name": "Python 3",
   "language": "python",
   "name": "python3"
  },
  "language_info": {
   "codemirror_mode": {
    "name": "ipython",
    "version": 3
   },
   "file_extension": ".py",
   "mimetype": "text/x-python",
   "name": "python",
   "nbconvert_exporter": "python",
   "pygments_lexer": "ipython3",
   "version": "3.6.7"
  }
 },
 "nbformat": 4,
 "nbformat_minor": 1
}

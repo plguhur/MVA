{
 "cells": [
  {
   "cell_type": "markdown",
   "metadata": {},
   "source": [
    "## TP1 Reinforcement Learning"
   ]
  },
  {
   "cell_type": "markdown",
   "metadata": {},
   "source": [
    "## 1 Dynamic Programming\n",
    "\n",
    "The following simple example illustrates the basic components of a Markov Decision Process (MDP) with stationary reward and transition model. Fig. 1 illustrates a simple three-state MDP. The elements in braces denote the rewards, while the weights on the arcs are the transition probabilities. For example, action a0 in s0 is such that\n",
    "$$p(s0|s0, a0) = 0.4, p(s1|s0, a0) = 0.6$$\n",
    "And $$r(s0, a0) = 0$$\n",
    "\n",
    "Assume a discount factor $γ = 0.95$\n",
    "\n",
    "**• Q1: Implement the discrete MDP model. In this simple MDP it is simple to guess the optimal policy π∗. What is it?**\n",
    "\n",
    "The optimal policy maximizes a fraction $\\gamma^t$ of the reward in expectation. Therefore, we want to reach $s_2$ and remaining there doing in loop the action $a_2$. The shortest stochastic path to $s_2$ is to do $a_1$ in $s_0$ and $s_1$. This means that the optimal policy is π0 = [a1, a1, a2]."
   ]
  },
  {
   "cell_type": "code",
   "execution_count": 1,
   "metadata": {},
   "outputs": [],
   "source": [
    "import numpy as np \n",
    "\n",
    "transitions = np.array([[[0.55, 0.3, 1],\n",
    "                         [0.45, 0.7, 0],\n",
    "                         [0, 0, 0]],\n",
    "                        [[1, 0, 0],\n",
    "                         [0, 0.4, 1],\n",
    "                         [0, 0.6, 0]],\n",
    "                        [[0, 0, 0],\n",
    "                         [1, 0.6, 0],\n",
    "                         [0, 0.4, 1]]\n",
    "                       ], dtype=float)\n",
    "#transitions(s1, s2, a0) = p(s1 | s2, a0)\n",
    "gamma = 0.95 \n",
    "\n",
    "rewards = np.array([[0, 0, 0.05],\n",
    "                    [0, 0, 0],\n",
    "                    [0, 1, 0.9]], dtype=float)"
   ]
  },
  {
   "cell_type": "markdown",
   "metadata": {},
   "source": [
    "\n",
    "**Q2: Implement and run value iteration (VI) in order to identify a 0.01–optimal policy. Recall that the stopping criterion (theory slides) is to stop when\n",
    "$$∥v^{k+1} − v^k∥_∞ < ε$$\n",
    "which implies that [Puterman, 1994, Th. 6.3.1]\n",
    "$$∥v^{π^+_{k+1}} −v_∗∥< \\frac{2εγ}{1−γ}$$\n",
    "Plot $∥v_k −v_∗∥_∞$ as a function of iteration k. Implement policy evaluation to compute $v_∗$, i.e. the value\n",
    "function of the optimal policy.**\n"
   ]
  },
  {
   "cell_type": "code",
   "execution_count": null,
   "metadata": {},
   "outputs": [],
   "source": []
  },
  {
   "cell_type": "code",
   "execution_count": 2,
   "metadata": {},
   "outputs": [
    {
     "data": {
      "text/plain": [
       "<Figure size 640x480 with 1 Axes>"
      ]
     },
     "metadata": {},
     "output_type": "display_data"
    }
   ],
   "source": [
    "import matplotlib.pyplot as plt\n",
    "\n",
    "n_states, n_actions = rewards.shape\n",
    "old_value = np.zeros(n_states)\n",
    "value = np.zeros(n_states)\n",
    "values = []\n",
    "eps = 1e-2\n",
    "error = eps + 1\n",
    "max_iter = 1000\n",
    "n = 0\n",
    "\n",
    "while error >= eps and n < max_iter:\n",
    "\n",
    "    for s in range(n_states):\n",
    "        all_values = np.zeros(n_actions)\n",
    "        for a in range(n_actions):\n",
    "            all_values[a] = rewards[s, a] + gamma * transitions[s, :, a].dot(value)\n",
    "        value[s] = np.max(all_values)\n",
    "    error = np.max(value - old_value)\n",
    "    values.append(value.copy())\n",
    "    old_value = value.copy()\n",
    "    n += 1\n",
    "\n",
    "\n",
    "v_opt = value\n",
    "errors = np.array(values) - np.tile(v_opt, (n, 1))\n",
    "plt.plot(errors)\n",
    "plt.ylabel(\"$∥v^k −v_∗∥$\")\n",
    "plt.xlabel(\"Step\")\n",
    "plt.show()"
   ]
  },
  {
   "cell_type": "markdown",
   "metadata": {},
   "source": [
    "**Q3: implement exact policy iteration (PI) with initial policy π0 = [a1, a1, a2]. Compare the speed of convergence w.r.t. VI and discuss the relative merits of the two approaches.**\n",
    "\n",
    "The initial policy given is the optimal policy. So we initialize our algorithm with $π0 = [a0, a1, a2]$"
   ]
  },
  {
   "cell_type": "code",
   "execution_count": 3,
   "metadata": {},
   "outputs": [
    {
     "name": "stdout",
     "output_type": "stream",
     "text": [
      "[1. 1. 1.]\n",
      "[-1.         -0.95       -2.48629032]\n",
      "[-1.11022302e-16 -1.55983871e+01 -1.55137097e+01]\n",
      "[-14.39115723   0.           0.        ]\n",
      "[0. 0. 0.]\n"
     ]
    },
    {
     "data": {
      "image/png": "[encoded data removed]",
      "text/plain": [
       "<Figure size 432x288 with 1 Axes>"
      ]
     },
     "metadata": {},
     "output_type": "display_data"
    }
   ],
   "source": [
    "from numpy.linalg import inv\n",
    "\n",
    "n_states, n_actions = rewards.shape\n",
    "old_value = np.zeros(n_states)\n",
    "v_pi = np.ones(n_states)\n",
    "policy = np.zeros(n_states)\n",
    "values = []\n",
    "eps = 1e-2\n",
    "error = eps + 1\n",
    "max_iter = 20\n",
    "n = 0\n",
    "\n",
    "def _policy_evaluation(policy, t, r, gamma):\n",
    "    n_states, n_actions = r.shape\n",
    "    r_pi = np.array([r[x, int(policy[x])] for x in range(n_states)])\n",
    "    p_pi = np.array([[t[x, y, int(policy[x])] for y in range(n_states)]  for x in range(n_states)])\n",
    "    v_pi = inv(np.eye(n_states) - gamma*p_pi) @ r_pi\n",
    "    return v_pi\n",
    "\n",
    "def _policy_improvement(v_pi, t, r, gamma):\n",
    "    n_states, n_actions = r.shape\n",
    "    greedy = np.zeros(n_actions)\n",
    "    policy = np.zeros(n_states)\n",
    "    for x in range(n_states):\n",
    "        for a in range(n_actions):\n",
    "            greedy[a] = r[x, a] + gamma * t[x, :, a].dot(v_pi)\n",
    "        policy[x] = np.argmax(greedy)\n",
    "    return policy\n",
    "    \n",
    "def has_converged(v, old_v):\n",
    "    return np.max(np.abs(v - old_v))\n",
    "   \n",
    "while has_converged(v_pi, old_value) and n < max_iter:\n",
    "    old_value = v_pi.copy()\n",
    "    v_pi = _policy_evaluation(policy, transitions, rewards, gamma)\n",
    "    policy = _policy_improvement(v_pi, transitions, rewards, gamma)\n",
    "    error = np.max(v_pi - old_value)\n",
    "    values.append(v_pi.copy())\n",
    "    print(old_value - v_pi)\n",
    "    n += 1\n",
    "\n",
    "\n",
    "v_opt = v_pi\n",
    "errors = np.array(values) - np.tile(v_opt, (n, 1))\n",
    "plt.plot(errors)\n",
    "plt.ylabel(\"$∥v^k −v_∗∥$\")\n",
    "plt.xlabel(\"Step\")\n",
    "plt.show()"
   ]
  },
  {
   "cell_type": "markdown",
   "metadata": {},
   "source": [
    "The convergence of policy iteration is much faster than for value iteration, but an iteration is more computationnally expensive.\n",
    "\n",
    "The convergence of policy iteration is also exact, while it is asymptotic for value iteration"
   ]
  },
  {
   "cell_type": "markdown",
   "metadata": {},
   "source": [
    "## 2. Reinforcement Learning\n",
    "\n",
    "\n",
    "\n",
    "### 2.1 A Review of RL Agent/Environment Interaction\n",
    "\n",
    "#### Policy evaluation. \n",
    "\n",
    "Consider the deterministic policy that is selecting the action right when available, otherwise up.\n",
    "\n",
    "**Q4: denote with $V_n(x,a)$ the value function estimated using Monte-Carlo, i.e., empirical average:\n",
    "$$V(s)= \\frac{1}{N(s)}\\sum_{k=1}^{N(s)}\\sum_{t=1}^{T_{max}} \\gamma^{t-1}r_t^{(k)}$$\n",
    "with $s_1=s,a_t∼π(·|s_t)$\n",
    " where $\\sum_s N(s) = n$ and $(r_t^{(k)})$\n",
    "is the sequence of rewards obtained when simulating the k-th trajectory st\n",
    "(using the simulator).\n",
    "Build such estimator and plot $J_n − J^π$ as a function of n, where\n",
    "$$V_π =[0.877,0.928,0.988,0,0.671,−0.994,0,−0.828,−0.877,−0.934,−0.994]T$$**"
   ]
  },
  {
   "cell_type": "code",
   "execution_count": 4,
   "metadata": {},
   "outputs": [
    {
     "name": "stderr",
     "output_type": "stream",
     "text": [
      "/Users/pierre-louis/.pyenv/versions/3.6.5/lib/python3.6/site-packages/matplotlib/axes/_axes.py:6462: UserWarning: The 'normed' kwarg is deprecated, and has been replaced by the 'density' kwarg.\n",
      "  warnings.warn(\"The 'normed' kwarg is deprecated, and has been \"\n"
     ]
    },
    {
     "data": {
      "image/png": "[encoded data removed]",
      "text/plain": [
       "<Figure size 432x288 with 1 Axes>"
      ]
     },
     "metadata": {},
     "output_type": "display_data"
    }
   ],
   "source": [
    "from gridworld import GridWorld1\n",
    "env = GridWorld1\n",
    "\n",
    "def evaluate_dist_mu(env, n_iter=50000):\n",
    "    mu0 = [env.reset() for i in range(n_iter)]\n",
    "    dist_mu, _ = np.histogram(mu0, bins=env.n_states)\n",
    "    return mu0, dist_mu/n_iter\n",
    "\n",
    "mu0, dist_mu = evaluate_dist_mu(env)\n",
    "plt.figure()\n",
    "plt.title(\"Distribution of $\\mu_0$\")\n",
    "plt.hist(mu0, bins=env.n_states, normed=True, edgecolor='k', alpha=0.5)\n",
    "plt.show()"
   ]
  },
  {
   "cell_type": "code",
   "execution_count": 225,
   "metadata": {},
   "outputs": [],
   "source": [
    "def _mc_simulations(env, policy, N=500, t_max=100, **kwargs):\n",
    "    \"\"\" Do a Monte Carlo simulations with N episodes. \"\"\"\n",
    "    all_actions = []\n",
    "    all_rewards = []\n",
    "    all_states = []\n",
    "\n",
    "    for e in range(N):\n",
    "        s = env.reset()\n",
    "        t = 0\n",
    "        term = False \n",
    "        reward_e = []\n",
    "        state_e = []\n",
    "        action_e = []\n",
    "        while t < t_max and not term:\n",
    "            a = policy(env.state_actions[s], s, **kwargs)\n",
    "            s, r, term = env.step(s, a)\n",
    "            reward_e.append(r)\n",
    "            action_e.append(a)\n",
    "            state_e.append(s)\n",
    "            t += 1\n",
    "        all_rewards.append(np.array(reward_e))\n",
    "        all_states.append(np.array(state_e))\n",
    "        all_actions.append(np.array(action_e))\n",
    "        \n",
    "    return all_rewards, all_states, all_actions\n",
    "\n",
    "def _find_trajectories(s, all_states):\n",
    "    trajectories = []\n",
    "    for k, states in enumerate(all_states):\n",
    "        if states[0] == s:\n",
    "            trajectories.append(k)\n",
    "    return trajectories \n",
    "\n",
    "def _discounted_reward(rewards, gamma=0.95):\n",
    "    acc = 0.0\n",
    "    for t in range(1, len(rewards)+1):\n",
    "        acc += gamma**(t-1)*rewards[t-1]\n",
    "    return acc\n",
    "\n",
    "def mc_value(env, policy, N=500, gamma=0.95, t_max=100, **kwargs):\n",
    "    \"\"\" \n",
    "    Estimate a value function from Monte-Carlo simulations for a given policy.\n",
    "    The simulation is run for N trajectories. \n",
    "    Policy parameter is a callback function whose parameter is the set of actions\n",
    "    \"\"\"\n",
    "    Vn = np.zeros(env.n_states)\n",
    "    all_rewards, all_states, all_actions = _mc_simulations(env, policy, N, t_max=t_max, **kwargs)\n",
    "    for s in range(env.n_states):\n",
    "        trajectories = _find_trajectories(s, all_states)\n",
    "        Ns = len(trajectories)\n",
    "        if Ns == 0:\n",
    "            continue\n",
    "        acc = 0.0\n",
    "        for k in range(Ns):\n",
    "            states = all_states[k]\n",
    "            rewards = all_rewards[k]\n",
    "            actions = all_actions[k]\n",
    "            acc += _discounted_reward(rewards, gamma)\n",
    "        Vn[s] = acc/Ns\n",
    "    return Vn"
   ]
  },
  {
   "cell_type": "code",
   "execution_count": 193,
   "metadata": {},
   "outputs": [],
   "source": [
    "def ponderate_value(values, dist_mu):\n",
    "    return values.dot(dist_mu)\n",
    "\n",
    "def policy(actions, state):\n",
    "    if 0 in actions: # turn right\n",
    "        return 0\n",
    "    return 3 # go up\n",
    "\n",
    "_, dist_mu = evaluate_dist_mu(env)\n",
    "n_values = 500\n",
    "V = np.zeros((n_values, env.n_states))\n",
    "J = np.zeros(n_values)\n",
    "for n in range(n_values):\n",
    "    V[n,:] = mc_value(env, policy, N=n+5)\n",
    "    J[n] = ponderate_value(V[n], dist_mu)\n",
    "    \n"
   ]
  },
  {
   "cell_type": "code",
   "execution_count": 235,
   "metadata": {},
   "outputs": [
    {
     "name": "stdout",
     "output_type": "stream",
     "text": [
      "[-0.09528616 -0.0944365  -0.08691407 -0.09274475  0.          0.04483127\n",
      " -0.06987174 -0.08074288 -0.09271351 -0.09206537 -0.08360893]\n",
      "[-0.07653436 -0.08355174 -0.08238798 -0.09511158  0.         -0.1299587\n",
      " -0.07854337 -0.06541072 -0.08114813 -0.08211471 -0.0903606 ]\n"
     ]
    }
   ],
   "source": [
    "print(mc_value(env, policy, N=10000))\n",
    "print(mc_value(env, policy, N=10000))"
   ]
  },
  {
   "cell_type": "code",
   "execution_count": 194,
   "metadata": {},
   "outputs": [
    {
     "data": {
      "text/plain": [
       "[<matplotlib.lines.Line2D at 0x110a3b6a0>]"
      ]
     },
     "execution_count": 194,
     "metadata": {},
     "output_type": "execute_result"
    },
    {
     "data": {
      "image/png": "[encoded data removed]",
      "text/plain": [
       "<Figure size 432x288 with 1 Axes>"
      ]
     },
     "metadata": {},
     "output_type": "display_data"
    }
   ],
   "source": [
    "Vpi = np.array([0.877,0.928,0.988,0,0.671,-0.994,0,-0.828,-0.877,-0.934,-0.994])\n",
    "Jpi = ponderate_value(Vpi, dist_mu)\n",
    "\n",
    "plt.plot(J-Jpi)"
   ]
  },
  {
   "cell_type": "markdown",
   "metadata": {},
   "source": [
    "### Question 5: Q_Learning"
   ]
  },
  {
   "cell_type": "code",
   "execution_count": 228,
   "metadata": {},
   "outputs": [
    {
     "data": {
      "image/png": "[encoded data removed]",
      "text/plain": [
       "<Figure size 432x288 with 1 Axes>"
      ]
     },
     "metadata": {},
     "output_type": "display_data"
    }
   ],
   "source": [
    "env = GridWorld1\n",
    "\n",
    "def _next_action(Q, state, actions, eps=0.1):\n",
    "    \"\"\" Compute the policy and return the action provided by the policy the given state.\n",
    "    The action is thus defined as $argmax_a Q(x_t, a)$ with an $\\epsilon$-greedy exploration policy.\"\"\"\n",
    "    \n",
    "    action = actions[np.argmax(Q[state, actions])]\n",
    "    \n",
    "    # exploration algorithm\n",
    "    if np.random.random() < eps and  actions != [action]:\n",
    "        action = np.random.choice(list(set(actions) - set([action])))\n",
    "\n",
    "    return action\n",
    "\n",
    "\n",
    "def _learning_rate(N, state, action):\n",
    "    return 1/N[state, action]\n",
    "\n",
    "def _q_episode(Q, N, env, eps=0.1, gamma=0.95, t_max=1000):\n",
    "    state = env.reset()\n",
    "    Q = Q.copy()\n",
    "    t = 0\n",
    "    term = False\n",
    "    old_state = state\n",
    "    n_actions = len(env.action_names)\n",
    "#     N = np.zeros((env.n_states, n_actions))\n",
    "    while t < t_max and not term:\n",
    "        action = _next_action(Q, state, env.state_actions[state], eps=eps)\n",
    "        N[state, action] += 1 \n",
    "        alpha = _learning_rate(N, state, action)\n",
    "        nexts, reward, term = env.step(state, action)\n",
    "        Q[state, action] = (1-alpha)*Q[state, action] + alpha* \\\n",
    "                            (reward + gamma*np.max(Q[nexts]))\n",
    "        t += 1\n",
    "        state = nexts\n",
    "    return Q, N\n",
    "\n",
    "\n",
    "    \n",
    "def q_learning(env, gamma=0.95, eps=0.3, max_iter=1000, max_err=0):\n",
    "    \"\"\" \n",
    "    Applies to Q Learning algorithm in ordeer to get the best policy.\n",
    "    The function returns all Q computed at each step. \n",
    "    \"\"\" \n",
    "\n",
    "    n = 0\n",
    "    n_actions = len(env.action_names)\n",
    "    Q = np.zeros((env.n_states, n_actions))\n",
    "    N = np.zeros((env.n_states, n_actions))\n",
    "    Qs = []\n",
    "    err = max_err + 1\n",
    "    while n < max_iter: # and err > max_err: #TODO add convergence criteria\n",
    "        new_q, N = _q_episode(Q, N, env, eps=eps, t_max=1000, gamma=gamma)\n",
    "        n += 1\n",
    "        Qs.append(new_q)\n",
    "        err = np.max(Q - new_q)\n",
    "        Q = new_q\n",
    "    return Qs\n",
    "\n",
    "\n",
    "qs = q_learning(env)\n",
    "q = qs[-1]\n",
    "\n",
    "cv_q = []\n",
    "for i in range(1, len(qs)):\n",
    "    cv_q.append( np.max( qs[i] - qs[i-1]) )\n",
    "plt.plot(cv_q)\n",
    "plt.show()"
   ]
  },
  {
   "cell_type": "markdown",
   "metadata": {},
   "source": [
    "The latter plot shows the convergence of Q. But we should check it has converged to a correct value by rendering the grid."
   ]
  },
  {
   "cell_type": "code",
   "execution_count": 197,
   "metadata": {},
   "outputs": [],
   "source": [
    "import gridrender\n",
    "def q_export(q, actions):\n",
    "    ret = []\n",
    "    for i in range(q.shape[0]):\n",
    "        ret.append(q[i, actions[i]])\n",
    "    return ret\n",
    "\n",
    "q_exp = q_export(q, env.state_actions)\n",
    "gridrender.render_q(env, q_exp)"
   ]
  },
  {
   "cell_type": "markdown",
   "metadata": {},
   "source": [
    "Great! Now, we can deduce from each $Q_n$ its corresponding policy $\\pi_n$ and from  $\\pi_n$, we obtain $V_n$ applying the policy evluation from Question 4."
   ]
  },
  {
   "cell_type": "code",
   "execution_count": 264,
   "metadata": {},
   "outputs": [
    {
     "data": {
      "image/png": "[encoded data removed]",
      "text/plain": [
       "<Figure size 432x288 with 1 Axes>"
      ]
     },
     "metadata": {},
     "output_type": "display_data"
    }
   ],
   "source": [
    "def _q_to_policy(Q, actions):\n",
    "    \"\"\" Return the optimal policy from Q\"\"\"\n",
    "    n_states = Q.shape[0]\n",
    "    policy = np.zeros(n_states)\n",
    "    for i in range(n_states):\n",
    "        policy[i] = actions[i][np.argmax(Q[i, actions[i]])]\n",
    "    return policy\n",
    "\n",
    "\n",
    "def q_to_value(env, Q, N=1000):\n",
    "    \"\"\" Return the estimated value function from Q \"\"\"\n",
    "    def policy(actions, state, pi=None):\n",
    "        return pi[state]\n",
    "    \n",
    "    pi = _q_to_policy(Q, env.state_actions)\n",
    "    v = mc_value(env, policy, N=1000, pi=pi)\n",
    "    return v\n",
    "    \n",
    "n_q = len(qs)\n",
    "V = np.zeros((n_q, env.n_states))\n",
    "step = 20\n",
    "x = range(0, n_q, step)\n",
    "\n",
    "for n in x:\n",
    "    V[n,:] = q_to_value(env, qs[n], N=10000)\n",
    "#     print(V[n])\n",
    "#     J[n] = ponderate_value(V[n], dist_mu)\n",
    "\n",
    "Vstar = [0.877,0.928,0.988,0,0.824,0.928,0,0.778,0.824,0.877,0.828]\n",
    "cv_v = []\n",
    "for i in x:\n",
    "    cv_v.append(np.max( V[i] - V[i-step]) )\n",
    "#     cv_v.append( np.max( V[i] - Vstar) )\n",
    "plt.plot(x, cv_v)\n",
    "plt.xlabel(\"n episodes\")\n",
    "plt.ylabel(\"||v_∗ − v^{π_n} ||_∞\")\n",
    "plt.title(\"Convergence of the value function\")\n",
    "plt.show()"
   ]
  },
  {
   "cell_type": "code",
   "execution_count": 259,
   "metadata": {},
   "outputs": [
    {
     "data": {
      "image/png": "[encoded data removed]",
      "text/plain": [
       "<Figure size 432x288 with 1 Axes>"
      ]
     },
     "metadata": {},
     "output_type": "display_data"
    }
   ],
   "source": []
  },
  {
   "cell_type": "code",
   "execution_count": 256,
   "metadata": {
    "scrolled": true
   },
   "outputs": [
    {
     "name": "stdout",
     "output_type": "stream",
     "text": [
      "[0.73294744 0.71812196 0.7306684  0.72781909 0.72882246 0.73916305\n",
      " 0.72295972 0.77309919 0.         0.72748293 0.90516513]\n",
      "[0.78751384 0.76088869 0.76664447 0.75693486 0.80897334 0.78675448\n",
      " 0.7924213  0.81060775 0.         0.76512168 0.86000621]\n",
      "0.04515892857142856\n"
     ]
    }
   ],
   "source": [
    "a = q_to_value(env, qs[-1], N=10000)\n",
    "b = q_to_value(env, qs[-10], N=10000)\n",
    "print(a)\n",
    "print(b)\n",
    "print(np.max(a-b))"
   ]
  },
  {
   "cell_type": "code",
   "execution_count": 247,
   "metadata": {},
   "outputs": [
    {
     "data": {
      "text/plain": [
       "400"
      ]
     },
     "execution_count": 247,
     "metadata": {},
     "output_type": "execute_result"
    }
   ],
   "source": [
    "[0.877,0.928,0.988,0,0.824,0.928,0,0.778,0.824,0.877,0.828]"
   ]
  }
 ],
 "metadata": {
  "kernelspec": {
   "display_name": "Python 3",
   "language": "python",
   "name": "python3"
  },
  "language_info": {
   "codemirror_mode": {
    "name": "ipython",
    "version": 3
   },
   "file_extension": ".py",
   "mimetype": "text/x-python",
   "name": "python",
   "nbconvert_exporter": "python",
   "pygments_lexer": "ipython3",
   "version": "3.6.5"
  }
 },
 "nbformat": 4,
 "nbformat_minor": 2
}

{
 "cells": [
  {
   "cell_type": "markdown",
   "metadata": {},
   "source": [
    "## MVA, Reinforcement Learning TP1\n",
    "## Dynamic Programming and Reinforcement Learning\n",
    "Lecturer: Matteo Pirotta v0.1 (October 29, 2018)\n",
    "\n",
    "Students: Pierre-Louis Guhur and Thibault Desfontaines\n"
   ]
  },
  {
   "cell_type": "markdown",
   "metadata": {},
   "source": [
    "## 1. Dynamic Programming\n",
    "\n",
    "\n",
    "![title](img/mdp.png)\n",
    "\n",
    "\n",
    "**Q1: Implement the discrete MDP model. In this simple MDP it is simple to guess the optimal policy $π_∗$. What is it?**\n",
    "\n",
    "The optimal policy maximizes a fraction $\\gamma^t$ of the reward in expectation. Therefore, we want to reach $s_2$ and remaining there doing in loop the action $a_2$. The shortest stochastic path to $s_2$ is to do $a_1$ in $s_0$ and $s_1$. This means that the optimal policy is π0 = [a1, a1, a2]."
   ]
  },
  {
   "cell_type": "code",
   "execution_count": 3,
   "metadata": {},
   "outputs": [],
   "source": [
    "import numpy as np \n",
    "\n",
    "transitions = np.array([[[0.55, 0.3, 1],\n",
    "                         [0.45, 0.7, 0],\n",
    "                         [0, 0, 0]],\n",
    "                        [[1, 0, 0],\n",
    "                         [0, 0.4, 1],\n",
    "                         [0, 0.6, 0]],\n",
    "                        [[0, 0, 0],\n",
    "                         [1, 0.6, 0],\n",
    "                         [0, 0.4, 1]]\n",
    "                       ], dtype=float)\n",
    "gamma = 0.95\n",
    "rewards = np.array([[0, 0, 0.05],\n",
    "                    [0, 0, 0],\n",
    "                    [0, 1, 0.9]], dtype=float)"
   ]
  },
  {
   "cell_type": "markdown",
   "metadata": {},
   "source": [
    "\n",
    "**Q2: Implement and run value iteration (VI) in order to identify a 0.01–optimal policy. Recall that the stopping criterion (theory slides) is to stop when\n",
    "$$∥v^{k+1} − v^k∥_∞ < ε$$\n",
    "which implies that [Puterman, 1994, Th. 6.3.1]\n",
    "$$∥v^{π^+_{k+1}} −v_∗∥< \\frac{2εγ}{1−γ}$$\n",
    "Plot $∥v_k −v_∗∥_∞$ as a function of iteration k. Implement policy evaluation to compute $v_∗$, i.e. the value\n",
    "function of the optimal policy.**\n"
   ]
  },
  {
   "cell_type": "code",
   "execution_count": 18,
   "metadata": {},
   "outputs": [
    {
     "data": {
      "image/png": "[encoded data removed]",
      "text/plain": [
       "<Figure size 432x288 with 1 Axes>"
      ]
     },
     "metadata": {},
     "output_type": "display_data"
    }
   ],
   "source": [
    "import matplotlib.pyplot as plt\n",
    "\n",
    "def value_iteration(transitions, rewards, eps=1e-2, max_iter=1000, gamma=0.95):\n",
    "    n_states, n_actions = rewards.shape\n",
    "    old_value = np.zeros(n_states)\n",
    "    value = np.zeros(n_states)\n",
    "    values = []\n",
    "    error = eps + 1\n",
    "    n = 0\n",
    "\n",
    "    while error >= eps and n < max_iter:\n",
    "        for s in range(n_states):\n",
    "            all_values = np.zeros(n_actions)\n",
    "            for a in range(n_actions):\n",
    "                all_values[a] = rewards[s, a] + gamma * transitions[s, :, a].dot(value)\n",
    "            value[s] = np.max(all_values)\n",
    "        error = np.max(value - old_value)\n",
    "        values.append(value.copy())\n",
    "        old_value = value.copy()\n",
    "        n += 1\n",
    "\n",
    "    return values\n",
    "\n",
    "eps = 1e-2\n",
    "gamma = 0.95\n",
    "values = np.array(value_iteration(transitions, rewards, eps=eps, gamma=gamma))\n",
    "v_opt = values[-1]\n",
    "errors = np.max(np.abs(values - v_opt), axis=1)\n",
    "bound = 2*eps*gamma/(1-gamma)\n",
    "plt.plot(errors, label=\"$∥v^k −v_∗∥$\")\n",
    "plt.plot([0,len(errors)], [bound, bound], label=\"Bound\")\n",
    "plt.legend()\n",
    "plt.xlabel(\"Step\")\n",
    "plt.title(\"Convergence of the value function\")\n",
    "plt.show()"
   ]
  },
  {
   "cell_type": "markdown",
   "metadata": {},
   "source": [
    "**Q3: implement exact policy iteration (PI) with initial policy $π_0$ = [a1, a1, a2]. Compare the speed of convergence w.r.t. VI and discuss the relative merits of the two approaches.**\n",
    "\n",
    "The initial policy given is the optimal policy. So we initialize our algorithm with $π0 = [a0, a1, a2]$"
   ]
  },
  {
   "cell_type": "code",
   "execution_count": 21,
   "metadata": {},
   "outputs": [
    {
     "data": {
      "image/png": "[encoded data removed]",
      "text/plain": [
       "<Figure size 432x288 with 1 Axes>"
      ]
     },
     "metadata": {},
     "output_type": "display_data"
    }
   ],
   "source": [
    "from numpy.linalg import inv\n",
    "\n",
    "def _policy_evaluation(policy, t, r, gamma):\n",
    "    n_states, n_actions = r.shape\n",
    "    r_pi = np.array([r[x, int(policy[x])] for x in range(n_states)])\n",
    "    p_pi = np.array([[t[x, y, int(policy[x])] for y in range(n_states)]  for x in range(n_states)])\n",
    "    v_pi = inv(np.eye(n_states) - gamma*p_pi) @ r_pi\n",
    "    return v_pi\n",
    "\n",
    "def _policy_improvement(v_pi, t, r, gamma):\n",
    "    n_states, n_actions = r.shape\n",
    "    greedy = np.zeros(n_actions)\n",
    "    policy = np.zeros(n_states)\n",
    "    for x in range(n_states):\n",
    "        for a in range(n_actions):\n",
    "            greedy[a] = r[x, a] + gamma * t[x, :, a].dot(v_pi)\n",
    "        policy[x] = np.argmax(greedy)\n",
    "    return policy\n",
    "    \n",
    "def _has_converged(v, old_v):\n",
    "    return np.max(np.abs(v - old_v))\n",
    "   \n",
    "def policy_iteration(transitions, rewards, eps=1e-2, max_iter=1000, gamma=0.95):\n",
    "    n_states, n_actions = rewards.shape\n",
    "    old_value = np.zeros(n_states)\n",
    "    v_pi = np.ones(n_states)\n",
    "    policy = np.zeros(n_states)\n",
    "    values = []\n",
    "    error = eps + 1\n",
    "    n = 0\n",
    "    \n",
    "    while _has_converged(v_pi, old_value) and n < max_iter:\n",
    "        old_value = v_pi.copy()\n",
    "        v_pi = _policy_evaluation(policy, transitions, rewards, gamma)\n",
    "        policy = _policy_improvement(v_pi, transitions, rewards, gamma)\n",
    "        error = np.max(np.abs(v_pi - old_value))\n",
    "        values.append(v_pi.copy())\n",
    "        n += 1\n",
    "        \n",
    "    return values\n",
    "     \n",
    "    \n",
    "eps = 1e-2\n",
    "gamma = 0.95\n",
    "values = np.array(policy_iteration(transitions, rewards, eps=eps, gamma=gamma))\n",
    "v_opt = values[-1]\n",
    "errors = np.max(np.abs(values - v_opt), axis=1)\n",
    "plt.plot(errors, label=\"$∥v^k −v_∗∥$\")\n",
    "plt.ylabel(\"$∥v^k −v_∗∥$\")\n",
    "plt.xlabel(\"Step\")\n",
    "plt.title(\"Convergence of the value function\")\n",
    "plt.show()"
   ]
  },
  {
   "cell_type": "markdown",
   "metadata": {},
   "source": [
    "The convergence of policy iteration is much faster than for value iteration, but each iteration is more computationnally expensive.\n",
    "The convergence of policy iteration is also exact, while it is asymptotic for value iteration."
   ]
  },
  {
   "cell_type": "code",
   "execution_count": 23,
   "metadata": {},
   "outputs": [
    {
     "name": "stdout",
     "output_type": "stream",
     "text": [
      "Time lapse for the policy iteration algorithm\n",
      "61.8 ms ± 5.68 ms per loop (mean ± std. dev. of 7 runs, 10 loops each)\n",
      "Time lapse for the value iteration algorithm\n",
      "411 ms ± 2.88 ms per loop (mean ± std. dev. of 7 runs, 1 loop each)\n"
     ]
    }
   ],
   "source": [
    "print(\"Time lapse for the policy iteration algorithm\")\n",
    "%timeit for x in range(100): policy_iteration(transitions, rewards, eps=eps, gamma=gamma)\n",
    "print(\"Time lapse for the value iteration algorithm\")\n",
    "%timeit for x in range(100): value_iteration(transitions, rewards, eps=eps, gamma=gamma)"
   ]
  },
  {
   "cell_type": "markdown",
   "metadata": {},
   "source": [
    "## 2. Reinforcement Learning\n",
    "\n",
    "\n",
    "\n",
    "### 2.1. Policy evaluation. \n",
    "\n",
    "Consider the deterministic policy that is selecting the action right when available, otherwise up.\n",
    "\n",
    "**Q4: denote with $V_n(x,a)$ the value function estimated using Monte-Carlo, i.e., empirical average:\n",
    "$$V(s)= \\frac{1}{N(s)}\\sum_{k=1}^{N(s)}\\sum_{t=1}^{T_{max}} \\gamma^{t-1}r_t^{(k)}$$\n",
    "with $s_1=s,a_t∼π(·|s_t)$\n",
    " where $\\sum_s N(s) = n$ and $(r_t^{(k)})$\n",
    "is the sequence of rewards obtained when simulating the k-th trajectory st\n",
    "(using the simulator).\n",
    "Build such estimator and plot $J_n − J^π$ as a function of n, where\n",
    "$$V_π =[0.877,0.928,0.988,0,0.671,−0.994,0,−0.828,−0.877,−0.934,−0.994]T$$**\n",
    "\n",
    "First, we need to evaluate the distribution of $\\mu$ by sampling it many times."
   ]
  },
  {
   "cell_type": "code",
   "execution_count": 24,
   "metadata": {},
   "outputs": [
    {
     "data": {
      "image/png": "[encoded data removed]",
      "text/plain": [
       "<Figure size 432x288 with 1 Axes>"
      ]
     },
     "metadata": {},
     "output_type": "display_data"
    }
   ],
   "source": [
    "from gridworld import GridWorld1\n",
    "env = GridWorld1\n",
    "\n",
    "def evaluate_dist_mu(env, n_iter=50000):\n",
    "    mu0 = [env.reset() for i in range(n_iter)]\n",
    "    dist_mu, _ = np.histogram(mu0, bins=env.n_states)\n",
    "    return mu0, dist_mu/n_iter\n",
    "\n",
    "mu0, dist_mu = evaluate_dist_mu(env)\n",
    "plt.figure()\n",
    "plt.title(\"Distribution of $\\mu_0$\")\n",
    "plt.xlabel(\"State\")\n",
    "plt.hist(mu0, bins=env.n_states, density=True, edgecolor='k', alpha=0.5)\n",
    "plt.show()"
   ]
  },
  {
   "cell_type": "markdown",
   "metadata": {},
   "source": [
    "Now, we can do the evaluation of the value function for a given deterministic policy"
   ]
  },
  {
   "cell_type": "code",
   "execution_count": 126,
   "metadata": {},
   "outputs": [
    {
     "data": {
      "text/plain": [
       "Text(0.5,1,'$J_n − J^π$ as a function of $n$')"
      ]
     },
     "execution_count": 126,
     "metadata": {},
     "output_type": "execute_result"
    },
    {
     "data": {
      "image/png": "[encoded data removed]",
      "text/plain": [
       "<Figure size 432x288 with 1 Axes>"
      ]
     },
     "metadata": {},
     "output_type": "display_data"
    }
   ],
   "source": [
    "def _mc_simulations(env, policy, t_max=100, **kwargs):\n",
    "    \"\"\" Do a Monte Carlo simulations with N episodes. \"\"\"\n",
    "\n",
    "    s = env.reset()\n",
    "    t = 0\n",
    "    term = False \n",
    "    rewards = []\n",
    "    states = [s]\n",
    "    actions = []\n",
    "    while t < t_max and not term:\n",
    "        a = policy(env.state_actions[s], s, **kwargs)\n",
    "        s, r, term = env.step(s, a)\n",
    "        rewards.append(r)\n",
    "        actions.append(a)\n",
    "        states.append(s)\n",
    "        t += 1\n",
    "    return rewards, states, actions\n",
    "\n",
    "def _mc_evaluation(rewards, states, actions, n_states, gamma=0.95):\n",
    "    \"\"\" \n",
    "    Evaluate the value function given the Monte-Carlo simulations.\n",
    "    \"\"\"\n",
    "    value = np.zeros(n_states)\n",
    "    for s in range(n_states):\n",
    "        trajectories = _find_trajectories(s, states)\n",
    "        Ns = len(trajectories)\n",
    "        if Ns == 0:\n",
    "            continue\n",
    "        acc = 0.0\n",
    "        for k in range(Ns):\n",
    "            acc += _discounted_reward(rewards[trajectories[k]], gamma)\n",
    "        value[s] = acc/Ns\n",
    "    return value\n",
    "\n",
    "def _find_trajectories(s, all_states):\n",
    "    \"\"\"\n",
    "    Return a list of the indices of trajectories that start from s\n",
    "    \"\"\"\n",
    "    trajectories = []\n",
    "    for k, states in enumerate(all_states):\n",
    "#         print(states)\n",
    "        if states[0] == s:\n",
    "            trajectories.append(k)\n",
    "    return trajectories \n",
    "\n",
    "def _discounted_reward(rewards, gamma=0.95):\n",
    "    \"\"\"\n",
    "    >>> _discounted_reward([0, 0, -1])\n",
    "    -0.9025\n",
    "    \"\"\"\n",
    "    acc = 0.0\n",
    "    for t in range(1, len(rewards)+1):\n",
    "        acc += gamma**(t-1)*rewards[t-1]\n",
    "    return acc\n",
    "\n",
    "def mc_value(env, policy, N=500, gamma=0.95, t_max=100, **kwargs):\n",
    "    \"\"\" \n",
    "    Estimate a value function from Monte-Carlo simulations for a given policy.\n",
    "    The simulation is run for N episodes. \n",
    "    Policy parameter is a callback function whose parameter is the set of actions\n",
    "    \"\"\"\n",
    "    values = np.zeros((N, env.n_states))\n",
    "    rewards, states, actions = [], [], []\n",
    "    \n",
    "    for n in range(N): # episodes\n",
    "        episodes = _mc_simulations(env, policy, t_max=t_max, **kwargs)\n",
    "        rewards.append(episodes[0])\n",
    "        states.append(episodes[1])\n",
    "        actions.append(episodes[2])\n",
    "        values[n, :] = _mc_evaluation(rewards, states, actions, env.n_states, gamma=gamma)\n",
    "    return values\n",
    "\n",
    "def ponderate_value(values, dist_mu):\n",
    "    return values.dot(dist_mu)\n",
    "\n",
    "def policy(actions, state):\n",
    "    if 0 in actions: # turn right\n",
    "        return 0\n",
    "    return 3 # go up\n",
    "\n",
    "# _, dist_mu = evaluate_dist_mu(env)\n",
    "n_values = 1000\n",
    "V = mc_value(env, policy, N=n_values)\n",
    "J = np.zeros(n_values)\n",
    "for n in range(n_values):\n",
    "    J[n] = ponderate_value(V[n], dist_mu)\n",
    "    \n",
    "Vpi = np.array([0.877,0.928,0.988,0,0.671,-0.994,0,-0.828,-0.877,-0.934,-0.994])\n",
    "Jpi = ponderate_value(Vpi, dist_mu)\n",
    "\n",
    "\n",
    "plt.plot(J-Jpi)\n",
    "plt.xlabel(\"episode\")\n",
    "plt.title(\"$J_n − J^π$ as a function of $n$\")"
   ]
  },
  {
   "cell_type": "markdown",
   "metadata": {},
   "source": [
    "### 2.2. Policy optimization: the Q-learning algorithm\n",
    "\n",
    "**Q5: Describe the (parameters of the) exploration policy and learning rate chosen, and illustrate the convergence of Q-Learning using the following performance metrics:**\n",
    "\n",
    "**- Performance over all the other state $||v_∗ − v^{π_n} ||_∞$, where $π_n$ is the greedy policy w.r.t. Qn at the end of the n-th episode**\n",
    "\n",
    "**- Reward cumulated over the episode.**\n",
    "\n",
    "**Note that:\n",
    "$v_∗ = [0.877,0.928,0.988,0,0.824,0.928,0,0.778,0.824,0.877,0.828]$**"
   ]
  },
  {
   "cell_type": "code",
   "execution_count": 133,
   "metadata": {},
   "outputs": [
    {
     "data": {
      "image/png": "[encoded data removed]",
      "text/plain": [
       "<Figure size 432x288 with 1 Axes>"
      ]
     },
     "metadata": {},
     "output_type": "display_data"
    }
   ],
   "source": [
    "env = GridWorld1\n",
    "\n",
    "def _next_action(Q, state, actions, eps=0.1):\n",
    "    \"\"\" Compute the policy and return the action provided by the policy the given state.\n",
    "    The action is thus defined as $argmax_a Q(x_t, a)$ with an $\\epsilon$-greedy exploration policy.\"\"\"\n",
    "    \n",
    "    action = actions[np.argmax(Q[state, actions])]\n",
    "    \n",
    "    # exploration algorithm\n",
    "    if np.random.random() < eps and  actions != [action]:\n",
    "        action = np.random.choice(list(set(actions) - set([action])))\n",
    "\n",
    "    return action\n",
    "\n",
    "\n",
    "def _learning_rate(N, state, action):\n",
    "    return 1/N[state, action]\n",
    "\n",
    "def _q_episode(Q, N, env, eps=0.1, gamma=0.95, t_max=1000):\n",
    "    state = env.reset()\n",
    "    Q = Q.copy()\n",
    "    t = 0\n",
    "    term = False\n",
    "    old_state = state\n",
    "    n_actions = len(env.action_names)\n",
    "#     N = np.zeros((env.n_states, n_actions))\n",
    "    while t < t_max and not term:\n",
    "        action = _next_action(Q, state, env.state_actions[state], eps=eps)\n",
    "        N[state, action] += 1 \n",
    "        alpha = _learning_rate(N, state, action)\n",
    "        nexts, reward, term = env.step(state, action)\n",
    "        Q[state, action] = (1-alpha)*Q[state, action] + alpha* \\\n",
    "                            (reward + gamma*np.max(Q[nexts]))\n",
    "        t += 1\n",
    "        state = nexts\n",
    "    return Q, N\n",
    "\n",
    "\n",
    "    \n",
    "def q_learning(env, gamma=0.95, eps=0.3, max_iter=300, max_err=0):\n",
    "    \"\"\" \n",
    "    Applies to Q Learning algorithm in ordeer to get the best policy.\n",
    "    The function returns all Q computed at each step. \n",
    "    \"\"\" \n",
    "\n",
    "    n = 0\n",
    "    n_actions = len(env.action_names)\n",
    "    Q = np.zeros((env.n_states, n_actions))\n",
    "    N = np.zeros((env.n_states, n_actions))\n",
    "    Qs = []\n",
    "    err = max_err + 1\n",
    "    while n < max_iter: # and err > max_err: #TODO add convergence criteria\n",
    "        new_q, N = _q_episode(Q, N, env, eps=eps, t_max=1000, gamma=gamma)\n",
    "        n += 1\n",
    "        Qs.append(new_q)\n",
    "        err = np.max(Q - new_q)\n",
    "        Q = new_q\n",
    "    return Qs\n",
    "\n",
    "\n",
    "qs = q_learning(env, max_iter=150)\n",
    "q = qs[-1]\n",
    "\n",
    "diff_q = []\n",
    "for i in range(1, len(qs)):\n",
    "    diff_q.append( np.max( np.abs(qs[i] - qs[i-1])) )\n",
    "plt.plot(cv_q)\n",
    "plt.show()"
   ]
  },
  {
   "cell_type": "markdown",
   "metadata": {},
   "source": [
    "The latter plot shows the convergence of Q. But we should check it has converged to a correct value by rendering the grid."
   ]
  },
  {
   "cell_type": "code",
   "execution_count": 115,
   "metadata": {},
   "outputs": [],
   "source": [
    "import gridrender\n",
    "def q_export(q, actions):\n",
    "    ret = []\n",
    "    for i in range(q.shape[0]):\n",
    "        ret.append(q[i, actions[i]])\n",
    "    return ret\n",
    "\n",
    "q_exp = q_export(q, env.state_actions)\n",
    "gridrender.render_q(env, q_exp)"
   ]
  },
  {
   "cell_type": "markdown",
   "metadata": {},
   "source": [
    "Great! Now, we can deduce from each $Q_n$ its corresponding policy $\\pi_n$ and from  $\\pi_n$, we obtain $V_n$ applying the policy evaluation from Question 4."
   ]
  },
  {
   "cell_type": "code",
   "execution_count": 130,
   "metadata": {},
   "outputs": [
    {
     "data": {
      "image/png": "[encoded data removed]",
      "text/plain": [
       "<Figure size 432x288 with 1 Axes>"
      ]
     },
     "metadata": {},
     "output_type": "display_data"
    }
   ],
   "source": [
    "def _q_to_policy(Q, actions):\n",
    "    \"\"\" Return the optimal policy from Q\"\"\"\n",
    "    n_states = Q.shape[0]\n",
    "    policy = np.zeros(n_states)\n",
    "    for i in range(n_states):\n",
    "        policy[i] = actions[i][np.argmax(Q[i, actions[i]])]\n",
    "    return policy\n",
    "\n",
    "\n",
    "def q_to_value(Q, env, N=1000):\n",
    "    \"\"\" Return the estimated value function from Q \"\"\"\n",
    "\n",
    "    def policy(actions, state, pi=None):\n",
    "        return pi[state]\n",
    "    \n",
    "    pi = _q_to_policy(Q, env.state_actions)\n",
    "    v = mc_value(env, policy, N=N, pi=pi)\n",
    "    return v[-1]\n",
    "    \n",
    "n_q = len(qs)\n",
    "values = []\n",
    "step = 10\n",
    "x = range(0, n_q, step)\n",
    "\n",
    "for i in x:\n",
    "    v = q_to_value(qs[i], env, N=1000)\n",
    "    values.append(v)\n",
    "\n",
    "cv_v = []\n",
    "cv_gt = []\n",
    "Vstar=[0.877,0.928,0.988,0,0.824,0.928,0,0.778,0.824,0.877,0.828]\n",
    "for i in range(len(values)):\n",
    "    cv_v.append( np.max( np.abs(values[i] - values[-1])) )\n",
    "    cv_gt.append( np.max( np.abs(values[i] - Vstar)) )\n",
    "plt.plot(x, cv_v, label=\"$||v^{π_{\\intfy}} − v^{π_n} ||_∞$\")\n",
    "plt.plot(x, cv_gt, label=\"$||v_∗ − v^{π_n} ||_∞$\")\n",
    "plt.xlabel(\"episodes\")\n",
    "plt.legend()\n",
    "plt.title(\"Convergence of the value function\")\n",
    "plt.show()"
   ]
  },
  {
   "cell_type": "code",
   "execution_count": 131,
   "metadata": {},
   "outputs": [
    {
     "data": {
      "text/plain": [
       "array([0.87928898, 0.93160122, 0.98119874, 0.        , 0.819534  ,\n",
       "       0.92972258, 0.        , 0.76632499, 0.81865142, 0.88021688,\n",
       "       0.8313971 ])"
      ]
     },
     "execution_count": 131,
     "metadata": {},
     "output_type": "execute_result"
    }
   ],
   "source": [
    "values[-1]"
   ]
  },
  {
   "cell_type": "code",
   "execution_count": null,
   "metadata": {},
   "outputs": [],
   "source": []
  }
 ],
 "metadata": {
  "kernelspec": {
   "display_name": "Python 3",
   "language": "python",
   "name": "python3"
  },
  "language_info": {
   "codemirror_mode": {
    "name": "ipython",
    "version": 3
   },
   "file_extension": ".py",
   "mimetype": "text/x-python",
   "name": "python",
   "nbconvert_exporter": "python",
   "pygments_lexer": "ipython3",
   "version": "3.6.5"
  }
 },
 "nbformat": 4,
 "nbformat_minor": 2
}

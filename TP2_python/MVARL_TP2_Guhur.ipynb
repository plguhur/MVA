{
 "cells": [
  {
   "cell_type": "markdown",
   "metadata": {},
   "source": [
    "# Reinforcement Learning\n",
    "# TP 2 - The Exploration-Exploitation Dilemma\n",
    "\n",
    "Student: Pierre-Louis Guhur"
   ]
  },
  {
   "cell_type": "markdown",
   "metadata": {},
   "source": [
    "# 1. Stochastic Multi-Armed Bandits on Simulated Data\n",
    "\n",
    "## 1.1 Bernoulli bandit models\n",
    "\n",
    "**A multi-armed bandit model is a collection of arms:\n",
    "                                ```MAB = {Arm1, Arm2, ...,ArmK}```\n",
    "Start by defining your own Bernoulli bandit model with K arms of means $p_1, . . . , p_K$**"
   ]
  },
  {
   "cell_type": "code",
   "execution_count": 2,
   "metadata": {},
   "outputs": [],
   "source": [
    "from arms import *\n",
    "import numpy as np\n",
    "import matplotlib.pyplot as plt\n",
    "from numpy import sqrt, log \n",
    "from IPython.display import display, clear_output\n",
    "import time\n",
    "\n",
    "\n",
    "K = 10\n",
    "means = np.random.random(K)\n",
    "MAB = [ArmBernoulli(m) for m in means]\n",
    "assert(MAB[0].mean == means[0])"
   ]
  },
  {
   "cell_type": "markdown",
   "metadata": {},
   "source": [
    "***1.* Write two functions\n",
    "              `[rew,draws]=UCB1(T,MAB,...)` and `[rew,draws]=TS(T,MAB,...)`\n",
    "simulating a bandit game of length $T$ with the UCB1 and Thompson Sampling strategy on the bandit model MAB: `rew` and `draws` are the sequence of the $T$ rewards obtained and of the $T$ the arms drawn.**"
   ]
  },
  {
   "cell_type": "code",
   "execution_count": 23,
   "metadata": {},
   "outputs": [
    {
     "data": {
      "image/png": "[encoded data removed]",
      "text/plain": [
       "<Figure size 432x288 with 1 Axes>"
      ]
     },
     "metadata": {},
     "output_type": "display_data"
    }
   ],
   "source": [
    "\n",
    "def _update_empirical_mean(mu, value, N):\n",
    "    ''' Online update of the emperical mean '''\n",
    "    return N/(N+1) * mu + 1/(N+1) * value\n",
    "\n",
    "\n",
    "def _update_ucb(B, mu, N, t, rho=sqrt(3)):\n",
    "    K = len(B)\n",
    "    for i in range(K):\n",
    "        B[i] = mu[i] + rho*sqrt(log(t)/N[i])\n",
    "        \n",
    "\n",
    "def plot_UCB1(B, mu, gt=None, sleep=0.1):\n",
    "    K = len(mu)\n",
    "    plt.cla()\n",
    "    ax = plt.gca()\n",
    "    plt.errorbar(x=range(K), y=mu, yerr=(B-mu), fmt='o')\n",
    "    plt.grid()\n",
    "    plt.ylim(-5, 5)\n",
    "    if gt is not None:\n",
    "        plt.scatter(range(0, K), gt, color=\"k\", label=\"ground truth\")\n",
    "    plt.draw()\n",
    "    plt.xlabel(\"Arm\")\n",
    "    plt.ylabel(\"Distribution\")\n",
    "    plt.title(\"UCB1\")\n",
    "    time.sleep(sleep)\n",
    "    display(plt.gcf(), display_id=True)\n",
    "    clear_output(wait=True)\n",
    "    \n",
    "    \n",
    "def UCB1(T, MAB, rho=sqrt(3), vis=\"all\"):\n",
    "    \"\"\"The UCB1 algorithm starts with an initialization phase that draws each arm once, and for t ≥ K, chooses at time t + 1 arm\n",
    "    $$A_{t+1} = argmax_{a\\in{1,...,K }} = \\hat{\\mu}_a(t) + \\rho_t \\sqrt{\\frac{\\log t}{2N_a(t)}}$$\n",
    "    \"\"\"\n",
    "    K = len(MAB) # number of arms\n",
    "    mu = np.zeros(K) # empirical mean\n",
    "    N = np.zeros(K) # number of times an arm was pulled\n",
    "    B = np.zeros(K) # upper-confidence bound\n",
    "    gt = [m.mean for m in MAB] # ground-truth\n",
    "    draws = np.zeros(T+1)\n",
    "    rew = np.zeros(T+1)\n",
    "    \n",
    "    # initialisation\n",
    "    for i in range(K):\n",
    "        s = MAB[i].sample()\n",
    "        mu[i] = _update_empirical_mean(0, s, 0)\n",
    "        B[i] = mu[i] + 0\n",
    "        N[i] += 1\n",
    "        draws[i] = i\n",
    "        rew[i] = s\n",
    "    \n",
    "    # steps\n",
    "    for t in range(K, T+1):\n",
    "        _update_ucb(B, mu, N, t, rho=rho)\n",
    "        a = np.argmax(B)\n",
    "        s = MAB[a].sample()\n",
    "        mu[a] = _update_empirical_mean(mu[a], s, N[a])\n",
    "        N[a] += 1\n",
    "        draws[i] = a\n",
    "        rew[i] = s\n",
    "        \n",
    "        if vis == \"all\":\n",
    "            plot_UCB1(B, mu, gt=gt, sleep=1e-3)\n",
    "        \n",
    "    return rew, draws\n",
    "\n",
    "rew, draws = UCB1(200, MAB)"
   ]
  },
  {
   "cell_type": "code",
   "execution_count": 20,
   "metadata": {},
   "outputs": [
    {
     "data": {
      "image/png": "[encoded data removed]",
      "text/plain": [
       "<Figure size 432x288 with 1 Axes>"
      ]
     },
     "metadata": {},
     "output_type": "display_data"
    }
   ],
   "source": [
    "def _update_posterior(p, a, b):\n",
    "    K = len(p)\n",
    "    for i in range(K):\n",
    "        p[i] = np.random.beta(a[i], b[i])\n",
    "        \n",
    "def plot_TS(a, b, gt=None, size=1000, sleep=1e-2):\n",
    "    K = len(a)\n",
    "    plt.cla()\n",
    "    ax = plt.gca()\n",
    "    all_data = [np.random.beta(a[i], b[i], size=size) for i in range(K)]\n",
    "    plt.violinplot(all_data, showmeans=True, showmedians=True)\n",
    "    if gt is not None:\n",
    "        plt.scatter(range(1, K+1), gt, color=\"k\", label=\"ground truth\")\n",
    "    plt.grid()\n",
    "    plt.ylim(-0.5, 1.5)\n",
    "    plt.xlabel(\"Arm\")\n",
    "    plt.ylabel(\"Distribution\")\n",
    "    plt.draw()\n",
    "    plt.title(\"Thomson Sampling\")\n",
    "    time.sleep(sleep)\n",
    "    display(plt.gcf(), display_id=True)\n",
    "    clear_output(wait=True)\n",
    "    \n",
    "    \n",
    "def TS(T, MAB, rho=sqrt(3), vis=\"all\"):\n",
    "    \"\"\"The UCB1 algorithm starts with an initialization phase that draws each arm once, and for t ≥ K, chooses at time t + 1 arm\n",
    "    $$A_{t+1} = argmax_{a\\in{1,...,K }} = \\hat{\\mu}_a(t) + \\rho_t \\sqrt{\\frac{\\log t}{2N_a(t)}}$$\n",
    "    \"\"\"\n",
    "    K = len(MAB) # number of arms\n",
    "    p = np.random.random(K) # prior distribution\n",
    "    a = np.ones(K) # beta - a\n",
    "    b = np.ones(K) # beta - b\n",
    "    gt = [m.mean for m in MAB] # ground-truth\n",
    "    draws = np.zeros(T+1)\n",
    "    rew = np.zeros(T+1)\n",
    "\n",
    "    \n",
    "    # steps\n",
    "    for t in range(1, T+1):\n",
    "        _update_posterior(p, a, b)\n",
    "        A = np.argmax(p)\n",
    "        s = MAB[A].sample()\n",
    "        a[A] += s\n",
    "        b[A] += 1-s\n",
    "        draws[t] = A\n",
    "        rew[t] = s\n",
    "        \n",
    "        if vis == \"all\":\n",
    "            plot_TS(a, b, gt=gt, sleep=1e-3)\n",
    "        \n",
    "    return rew, draws\n",
    "\n",
    "rew, draws = TS(200, MAB)"
   ]
  },
  {
   "cell_type": "markdown",
   "metadata": {},
   "source": [
    "***2.* Based on many simulations, estimate the expected regret of UCB1 and Thompson Sampling and display regret curves.\n",
    "You may also add the naive strategy that selects the empirical best arm at each round.**"
   ]
  }
 ],
 "metadata": {
  "kernelspec": {
   "display_name": "Python 3",
   "language": "python",
   "name": "python3"
  },
  "language_info": {
   "codemirror_mode": {
    "name": "ipython",
    "version": 3
   },
   "file_extension": ".py",
   "mimetype": "text/x-python",
   "name": "python",
   "nbconvert_exporter": "python",
   "pygments_lexer": "ipython3",
   "version": "3.6.5"
  }
 },
 "nbformat": 4,
 "nbformat_minor": 2
}

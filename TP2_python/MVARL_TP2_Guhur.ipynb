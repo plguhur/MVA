{
 "cells": [
  {
   "cell_type": "markdown",
   "metadata": {},
   "source": [
    "# Reinforcement Learning\n",
    "# TP 2 - The Exploration-Exploitation Dilemma\n",
    "\n",
    "Student: Pierre-Louis Guhur"
   ]
  },
  {
   "cell_type": "markdown",
   "metadata": {},
   "source": [
    "# 1. Stochastic Multi-Armed Bandits on Simulated Data\n",
    "\n",
    "## 1.1 Bernoulli bandit models\n",
    "\n",
    "**A multi-armed bandit model is a collection of arms:\n",
    "                                ```MAB = {Arm1, Arm2, ...,ArmK}```\n",
    "Start by defining your own Bernoulli bandit model with K arms of means $p_1, . . . , p_K$**"
   ]
  },
  {
   "cell_type": "code",
   "execution_count": 44,
   "metadata": {},
   "outputs": [],
   "source": [
    "from arms import *\n",
    "import numpy as np\n",
    "import matplotlib.pyplot as plt\n",
    "\n",
    "K = 10\n",
    "means = np.random.random(K)\n",
    "MAB = [ArmBernoulli(m) for m in means]\n",
    "assert(MAB[0].mean == means[0])"
   ]
  },
  {
   "cell_type": "markdown",
   "metadata": {},
   "source": [
    "***1.* Write two functions\n",
    "              `[rew,draws]=UCB1(T,MAB,...)` and `[rew,draws]=TS(T,MAB,...)`\n",
    "simulating a bandit game of length $T$ with the UCB1 and Thompson Sampling strategy on the bandit model MAB: `rew` and `draws` are the sequence of the $T$ rewards obtained and of the $T$ the arms drawn.**"
   ]
  },
  {
   "cell_type": "code",
   "execution_count": 45,
   "metadata": {},
   "outputs": [
    {
     "data": {
      "image/png": "[encoded data removed]",
      "text/plain": [
       "<Figure size 432x288 with 1 Axes>"
      ]
     },
     "metadata": {},
     "output_type": "display_data"
    }
   ],
   "source": [
    "from numpy import sqrt, log \n",
    "from IPython.display import display, clear_output\n",
    "import time\n",
    "\n",
    "def _update_empirical_mean(mu, value, N):\n",
    "    ''' Online update of the emperical mean '''\n",
    "    return N/(N+1) * mu + 1/(N+1) * value\n",
    "\n",
    "\n",
    "def _update_ucb(B, mu, N, t, rho=sqrt(3)):\n",
    "    K = len(B)\n",
    "    for i in range(K):\n",
    "        B[i] = mu[i] + rho*sqrt(log(t)/N[i])\n",
    "        \n",
    "\n",
    "def plot_UCB1(B, mu, sleep=0.1):\n",
    "    K = len(mu)\n",
    "    plt.cla()\n",
    "    ax = plt.gca()\n",
    "    ylim = ax.get_ylim()\n",
    "    plt.errorbar(x=range(K), y=mu, yerr=(B-mu), fmt='o', color='k')\n",
    "    plt.grid()\n",
    "#     plt.ylim(min(ylim[0], np.min(B-mu)), max(ylim[1], np.max(B-mu)))\n",
    "    plt.ylim(-5, 5)\n",
    "    plt.draw()\n",
    "    plt.title(\"UCB1\")\n",
    "    time.sleep(sleep)\n",
    "    display(plt.gcf(), display_id=True)\n",
    "    clear_output(wait=True)\n",
    "    \n",
    "    \n",
    "def UCB1(T, MAB, rho=sqrt(3), vis=\"all\"):\n",
    "    \"\"\"The UCB1 algorithm starts with an initialization phase that draws each arm once, and for t ≥ K, chooses at time t + 1 arm\n",
    "    $$A_{t+1} = argmax_{a\\in{1,...,K }} = \\hat{\\mu}_a(t) + \\rho_t \\sqrt{\\frac{\\log t}{2N_a(t)}}$$\n",
    "    \"\"\"\n",
    "    K = len(MAB) # number of arms\n",
    "    mu = np.zeros(K) # empirical mean\n",
    "    N = np.zeros(K) # number of times an arm was pulled\n",
    "    B = np.zeros(K) # upper-confidence bound\n",
    "    draws = np.zeros(K)\n",
    "    rew = np.zeros(K)\n",
    "    \n",
    "    # initialisation\n",
    "    for i in range(K):\n",
    "        s = MAB[i].sample()\n",
    "        mu[i] = _update_empirical_mean(0, s, 0)\n",
    "        B[i] = mu[i] + 0\n",
    "        N[i] += 1\n",
    "        draws[i] = i\n",
    "        rew[i] = s\n",
    "    \n",
    "    # steps\n",
    "    for t in range(K, T+1):\n",
    "        _update_ucb(B, mu, N, t, rho=rho)\n",
    "        a = np.argmax(B)\n",
    "        s = MAB[a].sample()\n",
    "        mu[a] = _update_empirical_mean(mu[a], s, N[a])\n",
    "        N[a] += 1\n",
    "        draws[i] = a\n",
    "        rew[i] = s\n",
    "        \n",
    "        if vis == \"all\":\n",
    "            plot_UCB1(B, mu, sleep=1e-3)\n",
    "        \n",
    "    return rew, draws\n",
    "\n",
    "rew, draws = UCB1(200, MAB)"
   ]
  },
  {
   "cell_type": "code",
   "execution_count": 42,
   "metadata": {},
   "outputs": [
    {
     "data": {
      "text/plain": [
       "array([9.57256377, 2.56003771, 6.19672294, 6.18745014, 6.73507624,\n",
       "       2.25474143, 3.95660848, 9.10421926, 2.56676401, 9.06905084])"
      ]
     },
     "execution_count": 42,
     "metadata": {},
     "output_type": "execute_result"
    }
   ],
   "source": []
  }
 ],
 "metadata": {
  "kernelspec": {
   "display_name": "Python 3",
   "language": "python",
   "name": "python3"
  },
  "language_info": {
   "codemirror_mode": {
    "name": "ipython",
    "version": 3
   },
   "file_extension": ".py",
   "mimetype": "text/x-python",
   "name": "python",
   "nbconvert_exporter": "python",
   "pygments_lexer": "ipython3",
   "version": "3.6.5"
  }
 },
 "nbformat": 4,
 "nbformat_minor": 2
}
